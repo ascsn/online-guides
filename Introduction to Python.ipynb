{
 "cells": [
  {
   "cell_type": "markdown",
   "id": "551179f6",
   "metadata": {},
   "source": [
    "# Introduction to Python\n",
    "\n",
    "List of contributors: Daniel Lay\n",
    "\n",
    "Hi everyone! Welcome to Michigan State University's Physics PhD program! (And welcome to anyone else who has stumbled upon this Jupyter notebook!) This is designed to introduce you to both Python and programming, assuming you have never used Python before. We hope you find this helpful!\n",
    "\n",
    "## Printing data; variables\n",
    "Let's start from the beginning. Whenever you program anything, you want to see what the code is doing. In Python, you use the 'print' statement. Run the cell below to print 'Hello World!' to the terminal."
   ]
  },
  {
   "cell_type": "code",
   "execution_count": 1,
   "id": "41cc6ca5",
   "metadata": {},
   "outputs": [
    {
     "name": "stdout",
     "output_type": "stream",
     "text": [
      "Hello World!\n"
     ]
    }
   ],
   "source": [
    "print('Hello World!')"
   ]
  },
  {
   "cell_type": "markdown",
   "id": "07a85a0d",
   "metadata": {},
   "source": [
    "We will see later that the 'print' statement is quite versatile - it can actually display *any* data that you feed into it. First, let's learn how to create and store data in Python.\n",
    "\n",
    "We start with a variable. Let's store the number $\\pi$:"
   ]
  },
  {
   "cell_type": "code",
   "execution_count": 2,
   "id": "56e54802",
   "metadata": {},
   "outputs": [
    {
     "name": "stdout",
     "output_type": "stream",
     "text": [
      "3.14159265359\n"
     ]
    }
   ],
   "source": [
    "pi = 3.14159265359\n",
    "\n",
    "print(pi)"
   ]
  },
  {
   "cell_type": "markdown",
   "id": "7dbf0d98",
   "metadata": {},
   "source": [
    "As you can see, the number $\\pi$ is now usable by typing the word 'pi'. Let's use it to compute the area of a circle, $A(r)=\\pi r^2$:"
   ]
  },
  {
   "cell_type": "code",
   "execution_count": 3,
   "id": "0abf9034",
   "metadata": {},
   "outputs": [
    {
     "name": "stdout",
     "output_type": "stream",
     "text": [
      "Area of the circle: 12.56637061436\n"
     ]
    }
   ],
   "source": [
    "r = 2\n",
    "A = pi * r ** 2\n",
    "\n",
    "print('Area of the circle:',A)"
   ]
  },
  {
   "cell_type": "markdown",
   "id": "8816c5bb",
   "metadata": {},
   "source": [
    "As you can see, arithmetic operations are not too tricky in Python. Multiplication is accomplished with the '\\*' sign, and raising a value to a power is accomplished with the '\\*\\*' operation. Similarly, addition and subtraction are the '+' and '-' signs, and division is the '/' sign:"
   ]
  },
  {
   "cell_type": "code",
   "execution_count": 4,
   "id": "31ea856e",
   "metadata": {},
   "outputs": [
    {
     "name": "stdout",
     "output_type": "stream",
     "text": [
      "2+3 = 5\n",
      "2-3 = 1\n",
      "2/3 = 0.6666666666666666\n"
     ]
    }
   ],
   "source": [
    "print('2+3 =',2+3)\n",
    "print('2-3 =',2-1)\n",
    "print('2/3 =',2/3)"
   ]
  },
  {
   "cell_type": "markdown",
   "id": "843c9b5f",
   "metadata": {},
   "source": [
    "Other mathematical operations will show up later.\n",
    "\n",
    "Now, look back at the data that was printed: inside of the quotes, you see phrases such as '2+3 ='. These are called 'strings', and are the way you save a phrase or sentence fragment. For instance, you can assign the phrase 'Python is fun!' to a variable, and print it out:"
   ]
  },
  {
   "cell_type": "code",
   "execution_count": 5,
   "id": "b18679ba",
   "metadata": {},
   "outputs": [
    {
     "name": "stdout",
     "output_type": "stream",
     "text": [
      "Python is fun!\n"
     ]
    }
   ],
   "source": [
    "my_variable = 'Python is fun!'\n",
    "print(my_variable)"
   ]
  },
  {
   "cell_type": "markdown",
   "id": "ee3d8958",
   "metadata": {},
   "source": [
    "The quantity '2+3' in the previous 'print' statement is not a string. It is evaluated by Python to be the number 5, and so the 'print' statement prints out 5. We can see the difference as follows:"
   ]
  },
  {
   "cell_type": "code",
   "execution_count": 6,
   "id": "b943d15f",
   "metadata": {},
   "outputs": [
    {
     "name": "stdout",
     "output_type": "stream",
     "text": [
      "2+3\n",
      "5\n"
     ]
    }
   ],
   "source": [
    "print('2+3')\n",
    "print(2+3)"
   ]
  },
  {
   "cell_type": "markdown",
   "id": "6b80f6a4",
   "metadata": {},
   "source": [
    "The *data type* of a variable is important in Python. To see the type of an object, use the 'type' statement:"
   ]
  },
  {
   "cell_type": "code",
   "execution_count": 7,
   "id": "66a925ee",
   "metadata": {},
   "outputs": [
    {
     "name": "stdout",
     "output_type": "stream",
     "text": [
      "type(3): <class 'int'>\n",
      "type('3') <class 'str'>\n"
     ]
    }
   ],
   "source": [
    "print('type(3):',type(3))\n",
    "print(\"type('3')\",type('3'))"
   ]
  },
  {
   "cell_type": "markdown",
   "id": "a2ce2c0c",
   "metadata": {},
   "source": [
    "You see that these objects are of a different type. What happens if we try to add them?"
   ]
  },
  {
   "cell_type": "code",
   "execution_count": 8,
   "id": "358c064f",
   "metadata": {},
   "outputs": [
    {
     "ename": "TypeError",
     "evalue": "unsupported operand type(s) for +: 'int' and 'str'",
     "output_type": "error",
     "traceback": [
      "\u001b[0;31m---------------------------------------------------------------------------\u001b[0m",
      "\u001b[0;31mTypeError\u001b[0m                                 Traceback (most recent call last)",
      "Cell \u001b[0;32mIn[8], line 1\u001b[0m\n\u001b[0;32m----> 1\u001b[0m \u001b[38;5;28mprint\u001b[39m(\u001b[38;5;124m\"\u001b[39m\u001b[38;5;124m3 + \u001b[39m\u001b[38;5;124m'\u001b[39m\u001b[38;5;124m3\u001b[39m\u001b[38;5;124m'\u001b[39m\u001b[38;5;124m =\u001b[39m\u001b[38;5;124m\"\u001b[39m,\u001b[38;5;241m3\u001b[39m \u001b[38;5;241m+\u001b[39m \u001b[38;5;124m'\u001b[39m\u001b[38;5;124m3\u001b[39m\u001b[38;5;124m'\u001b[39m)\n",
      "\u001b[0;31mTypeError\u001b[0m: unsupported operand type(s) for +: 'int' and 'str'"
     ]
    }
   ],
   "source": [
    "print(\"3 + '3' =\",3 + '3')"
   ]
  },
  {
   "cell_type": "markdown",
   "id": "a1378610",
   "metadata": {},
   "source": [
    "Oops! That didn't work. You see that it raised a 'TypeError' (the term 'raised' means that the error stopped the code from running). Generally, when an error occurs, you will see an error message like this. Then, it's back to the drawing board.\n",
    "\n",
    "Not all data types throw errors like this. Perhaps the most common data type is the 'float', such as the variable $\\pi$ defined earlier. What happens if we try to add $\\pi+3$?"
   ]
  },
  {
   "cell_type": "code",
   "execution_count": 9,
   "id": "19f6bb03",
   "metadata": {},
   "outputs": [
    {
     "name": "stdout",
     "output_type": "stream",
     "text": [
      "type(pi) <class 'float'>\n",
      "type(3) <class 'int'>\n",
      "pi + 3 = 6.14159265359\n"
     ]
    }
   ],
   "source": [
    "print(\"type(pi)\",type(pi))\n",
    "print(\"type(3)\",type(3))\n",
    "print('pi + 3 =',pi+3)"
   ]
  },
  {
   "cell_type": "markdown",
   "id": "350ca60b",
   "metadata": {},
   "source": [
    "That worked! Interesting. You see that Python is not strict about its numerical types - just as you probably aren't when adding two numbers together. Be aware that other programming languages, such as C++ or Fortran, are stricter - they often raise errors where Python does not.\n",
    "\n",
    "Take a look back at the previous 'print' statements. What do you see? We've just spent time talking about different data types, and how we can't add a 'string' data type to an 'integer' data type. But the 'print' statement doesn't seem to care. Is that a mistake?\n",
    "\n",
    "Well, no. Python will print *any number of variables* of *any different types*, as long as you separate the terms with a comma, ','. For instance, we can write the following:"
   ]
  },
  {
   "cell_type": "code",
   "execution_count": 10,
   "id": "b68cb1bc",
   "metadata": {},
   "outputs": [
    {
     "name": "stdout",
     "output_type": "stream",
     "text": [
      "Hello world! I think it's important for you to know that pi = 3.14159265359 and also that 2 + 2 = 4 !\n"
     ]
    }
   ],
   "source": [
    "print(\"Hello world! I think it's important for you to know that pi =\",pi,'and also that 2 + 2 =',2+2,'!')"
   ]
  },
  {
   "cell_type": "markdown",
   "id": "a1185343",
   "metadata": {},
   "source": [
    "This is quite useful. When debugging a piece of code, a common tactic is to print the *name* of the variable, and the variable itself, in the same line. Also, a subtle point: in the previous statement, I've used single quotes, ', and double quotes, \", in the same line. Python accepts either.\n",
    "\n",
    "So, that's a quick introduction to Python data types, and 'print' statements. But how do you actually *do* things in Python? Well, let's think of something to do, first. Suppose we have a lot of circles, and want to compute the area of each circle.\n",
    "\n",
    "The first thing you may think to do is to print the area for each radius:"
   ]
  },
  {
   "cell_type": "code",
   "execution_count": 11,
   "id": "917478ea",
   "metadata": {},
   "outputs": [
    {
     "name": "stdout",
     "output_type": "stream",
     "text": [
      "r = 2 , area = 12.56637061436\n",
      "r = 3 , area = 28.27433388231\n",
      "r = 4 , area = 50.26548245744\n"
     ]
    }
   ],
   "source": [
    "print('r =',2,', area =',pi*2**2)\n",
    "print('r =',3,', area =',pi*3**2)\n",
    "print('r =',4,', area =',pi*4**2)"
   ]
  },
  {
   "cell_type": "markdown",
   "id": "988f89dc",
   "metadata": {},
   "source": [
    "Ok, that's not so bad. We can copy-paste the area to wherever we want to use it, and we're done.\n",
    "\n",
    "## Lists; loops\n",
    "Now, suppose we have 10 different circles. There ought to be a better way, right? Well, yes. The answer is one of Python's basic data types, the *list*. We add elements to a list by putting them inside of brackets '\\[' and '\\]':"
   ]
  },
  {
   "cell_type": "code",
   "execution_count": 12,
   "id": "02582125",
   "metadata": {},
   "outputs": [
    {
     "name": "stdout",
     "output_type": "stream",
     "text": [
      "type(my_list) <class 'list'>\n"
     ]
    }
   ],
   "source": [
    "my_list = [2, 3, 4]\n",
    "print(\"type(my_list)\",type(my_list))"
   ]
  },
  {
   "cell_type": "markdown",
   "id": "9f21619e",
   "metadata": {},
   "source": [
    "To compute the area of these circles, we use what is called a 'for' loop. As you will see, the 'for' loop is rather flexible. Maybe the first thing you might think is something like the following:\n",
    "\n",
    "\"for radius in my_list, compute the area of radius\"\n",
    "\n",
    "Python is nice: this phrase (what is sometimes called 'pseudo code') can be evaluated almost word-for-word:"
   ]
  },
  {
   "cell_type": "code",
   "execution_count": 14,
   "id": "3963da35",
   "metadata": {},
   "outputs": [
    {
     "name": "stdout",
     "output_type": "stream",
     "text": [
      "area =  12.56637061436\n",
      "area =  28.27433388231\n",
      "area =  50.26548245744\n"
     ]
    }
   ],
   "source": [
    "for radius in my_list:\n",
    "    area = pi * radius ** 2\n",
    "    print('area = ',area)"
   ]
  },
  {
   "cell_type": "markdown",
   "id": "c225337f",
   "metadata": {},
   "source": [
    "That's about as easy as it gets! There are other, equivalent ways to write this. One is called 'list comprehension', and it lets you write loops in one line:"
   ]
  },
  {
   "cell_type": "code",
   "execution_count": 15,
   "id": "a4b0e36f",
   "metadata": {},
   "outputs": [
    {
     "data": {
      "text/plain": [
       "[12.56637061436, 28.27433388231, 50.26548245744]"
      ]
     },
     "execution_count": 15,
     "metadata": {},
     "output_type": "execute_result"
    }
   ],
   "source": [
    "[pi * radius ** 2 for radius in my_list]"
   ]
  },
  {
   "cell_type": "markdown",
   "id": "f2e72f8a",
   "metadata": {},
   "source": [
    "Another introduces the 'len' and 'range' statements. Suppose we have a list, but we don't know how many items are in it (a common term is the 'length of the list'). The 'len' statement tells us the length of the list. The 'range' statement makes what is technically referred to as an 'iterable'. You can think of it as a list of values from 0 to the input value, and look up the term 'iterable' if you want to know more."
   ]
  },
  {
   "cell_type": "code",
   "execution_count": 16,
   "id": "69d1a7fc",
   "metadata": {},
   "outputs": [
    {
     "name": "stdout",
     "output_type": "stream",
     "text": [
      "len(my_list) 3\n",
      "range(len(my_list)) range(0, 3)\n"
     ]
    }
   ],
   "source": [
    "print('len(my_list)',len(my_list))\n",
    "print('range(len(my_list))',range(len(my_list)))"
   ]
  },
  {
   "cell_type": "markdown",
   "id": "76ab4569",
   "metadata": {},
   "source": [
    "Ok, so these are *intrinsic functions* in Python. How do they help us in the loop? Well, we can access items in a list (or any iterable) using an *index*. Python indexes lists from 0, so the first element in 'my_list' is accessed as 'my_list\\[0\\]', the second element is 'my_list\\[1\\]', and so on. Beware: Python indexes from 0, meaning the *first* element is accessed as the 0 index. For a list of length 3, then, such as \\['a','b','c'\\], the last item is accessed using the 2 index (and so on for general lists).\n",
    "\n",
    "To compute the area of my circles, then, I can loop over the number of elements in my list, and compute the radius of each element:"
   ]
  },
  {
   "cell_type": "code",
   "execution_count": 18,
   "id": "b9a82833",
   "metadata": {},
   "outputs": [
    {
     "name": "stdout",
     "output_type": "stream",
     "text": [
      "i = 0 my_list[i] = 2 area = 12.56637061436\n",
      "i = 1 my_list[i] = 3 area = 28.27433388231\n",
      "i = 2 my_list[i] = 4 area = 50.26548245744\n"
     ]
    }
   ],
   "source": [
    "for i in range(len(my_list)):\n",
    "    print('i =',i,'my_list[i] =',my_list[i],'area =',pi * my_list[i] ** 2)"
   ]
  },
  {
   "cell_type": "markdown",
   "id": "f837c510",
   "metadata": {},
   "source": [
    "Fantastic! We can compute things in a loop, rather than copy-pasting code. A related statement is a 'while' loop, which is useful when you don't know how many times you want to repeat a loop.\n",
    "\n",
    "What if we want to do something more complicated, though? Suppose we want to compute the ratio of the area of a circle to the radius of the same circle. We know we can write this as $\\pi r^2/(2\\pi r)=\\frac{1}{2}r$, but suppose we didn't know how to simplify this algebraically. We could write the list comprehension code:"
   ]
  },
  {
   "cell_type": "code",
   "execution_count": 19,
   "id": "42309ecc",
   "metadata": {},
   "outputs": [
    {
     "data": {
      "text/plain": [
       "[1.0, 1.4999999999999998, 2.0]"
      ]
     },
     "execution_count": 19,
     "metadata": {},
     "output_type": "execute_result"
    }
   ],
   "source": [
    "[pi * radius ** 2/(2 * pi * radius) for radius in my_list]"
   ]
  },
  {
   "cell_type": "markdown",
   "id": "2f280bec",
   "metadata": {},
   "source": [
    "That's not so hard to read, but you can imagine it getting worse ('worse' meaning 'longer' - the longer the line of code, the harder to read).\n",
    "\n",
    "## Functions; boolean logic\n",
    "\n",
    "One better way is what's called a *function*. It's written using a 'def' statement, short for 'define', and it takes in different arguments. Let's write the area of a circle as a function:"
   ]
  },
  {
   "cell_type": "code",
   "execution_count": 20,
   "id": "8ce73a1d",
   "metadata": {},
   "outputs": [
    {
     "name": "stdout",
     "output_type": "stream",
     "text": [
      "radius: 2 area: 12.56637061436\n",
      "radius: 3 area: 28.27433388231\n",
      "radius: 4 area: 50.26548245744\n"
     ]
    }
   ],
   "source": [
    "def area(radius):\n",
    "    return pi * radius ** 2\n",
    "\n",
    "for radius in my_list:\n",
    "    print('radius:',radius,'area:',area(radius))"
   ]
  },
  {
   "cell_type": "markdown",
   "id": "242d63ba",
   "metadata": {},
   "source": [
    "You see that the function does some calculations, then uses a 'return' statement. The 'return' statement is the output of the function, or the result you want the function to compute. You *call* the function (meaning you feed in an argument and get a result) by using the parentheses, '(' and ')'.\n",
    "\n",
    "A function can take in multiple arguments, separated by a comma, ',':"
   ]
  },
  {
   "cell_type": "code",
   "execution_count": 21,
   "id": "c0205a0c",
   "metadata": {},
   "outputs": [
    {
     "name": "stdout",
     "output_type": "stream",
     "text": [
      "radius: 2 pi: 3.14159265359 area: 12.56637061436\n",
      "radius: 3 pi: 3.14159265359 area: 28.27433388231\n",
      "radius: 4 pi: 3.14159265359 area: 50.26548245744\n"
     ]
    }
   ],
   "source": [
    "def area(radius,pi):\n",
    "    return pi * radius **2\n",
    "\n",
    "for radius in my_list:\n",
    "    print('radius:',radius,'pi:',pi,'area:',area(radius,pi))"
   ]
  },
  {
   "cell_type": "markdown",
   "id": "e7386db9",
   "metadata": {},
   "source": [
    "That's quite nice. Suppose we assume pi will typically be 3.14159265359, as seems reasonable, but we still want to let the person running the code change its value. We can give our function an *optional argument*, which has a default value, as follows:"
   ]
  },
  {
   "cell_type": "code",
   "execution_count": 22,
   "id": "86d4640b",
   "metadata": {},
   "outputs": [
    {
     "name": "stdout",
     "output_type": "stream",
     "text": [
      "radius: 2 area: 12.56637061436\n",
      "radius: 3 area: 28.27433388231\n",
      "radius: 4 area: 50.26548245744\n"
     ]
    }
   ],
   "source": [
    "def area(radius,pi=3.14159265359):\n",
    "    return pi * radius **2\n",
    "\n",
    "for radius in my_list:\n",
    "    print('radius:',radius,'area:',area(radius))"
   ]
  },
  {
   "cell_type": "markdown",
   "id": "1744a476",
   "metadata": {},
   "source": [
    "We see that we don't have to supply an argument if we don't want to. If we did want to, we could either specify it by the order in the function, as done above, or we can specify it by name:"
   ]
  },
  {
   "cell_type": "code",
   "execution_count": 23,
   "id": "09ad5895",
   "metadata": {},
   "outputs": [
    {
     "name": "stdout",
     "output_type": "stream",
     "text": [
      "radius: 2 area: 12.56637061436\n",
      "radius: 3 area: 28.27433388231\n",
      "radius: 4 area: 50.26548245744\n"
     ]
    }
   ],
   "source": [
    "def area(radius,pi=3.14159265359):\n",
    "    return pi * radius **2\n",
    "\n",
    "for radius in my_list:\n",
    "    print('radius:',radius,'area:',area(radius,pi=pi))"
   ]
  },
  {
   "cell_type": "markdown",
   "id": "28e056bc",
   "metadata": {},
   "source": [
    "One common thing is to define a function that only makes sense in some contexts. For instance, the area of a circle really only makes sense if the radius is positive. How do we check this? We use what is called *boolean logic*. In Python, we check if two values are equal using '==', and check if they are not equal using '!='. As an example: "
   ]
  },
  {
   "cell_type": "code",
   "execution_count": 24,
   "id": "394294c0",
   "metadata": {},
   "outputs": [
    {
     "name": "stdout",
     "output_type": "stream",
     "text": [
      "2 == 3: False\n",
      "2 != 3: True\n"
     ]
    }
   ],
   "source": [
    "print(\"2 == 3:\",2 == 3)\n",
    "print(\"2 != 3:\",2 != 3)"
   ]
  },
  {
   "cell_type": "markdown",
   "id": "0f0c16e7",
   "metadata": {},
   "source": [
    "Since 2 does not equal 3, we see that the check for equality returns 'False', and the check for inequality returns 'True'. 'True' and 'False' are *booleans*. One thing you can do is check if multiple conditions are true at the same time, using the 'and' statement:"
   ]
  },
  {
   "cell_type": "code",
   "execution_count": 25,
   "id": "13ecc592",
   "metadata": {},
   "outputs": [
    {
     "name": "stdout",
     "output_type": "stream",
     "text": [
      "2 == 2 and 3 == 3: True\n"
     ]
    }
   ],
   "source": [
    "print(\"2 == 2 and 3 == 3:\",2 == 2 and 3 == 3)"
   ]
  },
  {
   "cell_type": "markdown",
   "id": "83616024",
   "metadata": {},
   "source": [
    "We're not going to spend time reviewing boolean logic because we will be here all day, but the internet is overflowing with resources on the topic.\n",
    "\n",
    "To actually use booleans, we introduce a few operations. The '<=' symbol checks if one number is less than or equal to another, and returns True/False depending on the truth value of the statement. We then check the truth value of a boolean using an 'if' statement, as follows:"
   ]
  },
  {
   "cell_type": "code",
   "execution_count": 26,
   "id": "1cbfd034",
   "metadata": {},
   "outputs": [
    {
     "name": "stdout",
     "output_type": "stream",
     "text": [
      "My var1 <= var2\n"
     ]
    }
   ],
   "source": [
    "var1 = 2\n",
    "var2 = 7\n",
    "\n",
    "myBool = (var1 <= var2)\n",
    "if myBool:\n",
    "    print('My var1 <= var2')\n",
    "else:\n",
    "    print('My var1 > var2')"
   ]
  },
  {
   "cell_type": "markdown",
   "id": "5c4e5a62",
   "metadata": {},
   "source": [
    "You see that the print statement under the 'if' statement printed its value, and the other did not. This is how if/else statements work. There is also an 'elif' statement in Python, which is useful when you have a large number of options:"
   ]
  },
  {
   "cell_type": "code",
   "execution_count": 27,
   "id": "643ec89b",
   "metadata": {},
   "outputs": [
    {
     "name": "stdout",
     "output_type": "stream",
     "text": [
      "Statement 3\n"
     ]
    }
   ],
   "source": [
    "myVar = 3\n",
    "\n",
    "if myVar == 1:\n",
    "    print('Statement 1')\n",
    "elif myVar == 2:\n",
    "    print('Statement 2')\n",
    "elif myVar == 3:\n",
    "    print('Statement 3')\n",
    "else:\n",
    "    print('Other statement')"
   ]
  },
  {
   "cell_type": "markdown",
   "id": "9e60ced4",
   "metadata": {},
   "source": [
    "The last thing I'll show you is how to exit a function when something goes wrong. Going back to our circle example, let's exit a function when supplying a negative radius. To do so, we need to raise an error, as mentioned when discussing types. It's helpful to provide a message, to tell the user of the code what went wrong. It's also good habit to comment your code to elaborate on the message, which can be done either with a '#' symbol, or 3 quotes on either side of the text."
   ]
  },
  {
   "cell_type": "code",
   "execution_count": 28,
   "id": "a9e40a7e",
   "metadata": {},
   "outputs": [
    {
     "name": "stdout",
     "output_type": "stream",
     "text": [
      "radius: 2 area(radius): 12.56637061436\n"
     ]
    },
    {
     "ename": "ValueError",
     "evalue": "radius must be positive",
     "output_type": "error",
     "traceback": [
      "\u001b[0;31m---------------------------------------------------------------------------\u001b[0m",
      "\u001b[0;31mValueError\u001b[0m                                Traceback (most recent call last)",
      "Cell \u001b[0;32mIn[28], line 14\u001b[0m\n\u001b[1;32m     12\u001b[0m radiusList \u001b[38;5;241m=\u001b[39m [\u001b[38;5;241m2\u001b[39m,\u001b[38;5;241m-\u001b[39m\u001b[38;5;241m4\u001b[39m]\n\u001b[1;32m     13\u001b[0m \u001b[38;5;28;01mfor\u001b[39;00m radius \u001b[38;5;129;01min\u001b[39;00m radiusList:\n\u001b[0;32m---> 14\u001b[0m     \u001b[38;5;28mprint\u001b[39m(\u001b[38;5;124m'\u001b[39m\u001b[38;5;124mradius:\u001b[39m\u001b[38;5;124m'\u001b[39m,radius,\u001b[38;5;124m'\u001b[39m\u001b[38;5;124marea(radius):\u001b[39m\u001b[38;5;124m'\u001b[39m,area(radius))\n",
      "Cell \u001b[0;32mIn[28], line 8\u001b[0m, in \u001b[0;36marea\u001b[0;34m(radius)\u001b[0m\n\u001b[1;32m      6\u001b[0m \u001b[38;5;66;03m#A circle with negative radius doesn't make sense\u001b[39;00m\n\u001b[1;32m      7\u001b[0m \u001b[38;5;28;01mif\u001b[39;00m radius \u001b[38;5;241m<\u001b[39m\u001b[38;5;241m=\u001b[39m \u001b[38;5;241m0\u001b[39m:\n\u001b[0;32m----> 8\u001b[0m     \u001b[38;5;28;01mraise\u001b[39;00m \u001b[38;5;167;01mValueError\u001b[39;00m(\u001b[38;5;124m'\u001b[39m\u001b[38;5;124mradius must be positive\u001b[39m\u001b[38;5;124m'\u001b[39m)\n\u001b[1;32m     10\u001b[0m \u001b[38;5;28;01mreturn\u001b[39;00m pi \u001b[38;5;241m*\u001b[39m radius \u001b[38;5;241m*\u001b[39m\u001b[38;5;241m*\u001b[39m \u001b[38;5;241m2\u001b[39m\n",
      "\u001b[0;31mValueError\u001b[0m: radius must be positive"
     ]
    }
   ],
   "source": [
    "def area(radius):\n",
    "    \"\"\"\n",
    "    This function computes the area of a circle.\n",
    "    \"\"\"\n",
    "    \n",
    "    #A circle with negative radius doesn't make sense\n",
    "    if radius <= 0:\n",
    "        raise ValueError('radius must be positive')\n",
    "    \n",
    "    return pi * radius ** 2\n",
    "\n",
    "radiusList = [2,-4]\n",
    "for radius in radiusList:\n",
    "    print('radius:',radius,'area(radius):',area(radius))"
   ]
  },
  {
   "cell_type": "markdown",
   "id": "7bdd4aac",
   "metadata": {},
   "source": [
    "As you can see, the program halts. Notice also that, although we have an 'if' statement, we don't need an 'else' clause: either the program stops at the ValueError, or it evaluates correctly. There are a number of other types of errors that I will skip over here. And, you see that the commented text didn't do anything, exactly as we hope for comments."
   ]
  },
  {
   "cell_type": "markdown",
   "id": "91d266f1",
   "metadata": {},
   "source": [
    "## Classes\n",
    "\n",
    "Python is what's called an *object oriented* programming language. For practical purposes, what that means is you can define a 'class', which keeps track of context separately from the rest of the program. Let's start by making a class:"
   ]
  },
  {
   "cell_type": "code",
   "execution_count": 29,
   "id": "40a56466",
   "metadata": {},
   "outputs": [],
   "source": [
    "class MyClass:\n",
    "    def __init__(self,myVariable):\n",
    "        self.myVariable = myVariable"
   ]
  },
  {
   "cell_type": "markdown",
   "id": "c2e8ae40",
   "metadata": {},
   "source": [
    "Similar to defining a function, we use the 'class' statement to define the class. Under the 'class' statement, you see what looks like a function, 'def \\_\\_init__'. The proper name for this object is a *class method*, and it is bound to the class 'MyClass'. It is defined similar to a function, but the first argument is special. The 'self' statement is what tells Python that this is bound to the class - we can't access the '\\_\\_init__' function outside of the class.\n",
    "\n",
    "Unlike a function, we now have to make an *instance* of a class. When making a class instance, we see that the '\\_\\_init__' method is special. It takes in one argument, 'myVariable', and associates it with the class instance. So, it has to be fed in when we make the class instance:"
   ]
  },
  {
   "cell_type": "code",
   "execution_count": 30,
   "id": "faf3a499",
   "metadata": {},
   "outputs": [
    {
     "name": "stdout",
     "output_type": "stream",
     "text": [
      "type(my_class) <class '__main__.MyClass'>\n"
     ]
    }
   ],
   "source": [
    "my_class = MyClass('An input variable')\n",
    "print(\"type(my_class)\",type(my_class))"
   ]
  },
  {
   "cell_type": "markdown",
   "id": "32bfd07c",
   "metadata": {},
   "source": [
    "Notice that 'my_class' is now of type 'MyClass'. This tells us a little about the variable types we were seeing earlier, but we won't spend time on that now.\n",
    "\n",
    "What do we actually *do* with a class, though? First, let's get the variable we instantiated the class with. We do this with the '.' operator:"
   ]
  },
  {
   "cell_type": "code",
   "execution_count": 31,
   "id": "8d0de4ed",
   "metadata": {},
   "outputs": [
    {
     "name": "stdout",
     "output_type": "stream",
     "text": [
      "my_class.myVariable An input variable\n"
     ]
    }
   ],
   "source": [
    "print('my_class.myVariable',my_class.myVariable)"
   ]
  },
  {
   "cell_type": "markdown",
   "id": "3ca3c5c4",
   "metadata": {},
   "source": [
    "An equivalent, but seldom-used option, is to use the built-in Python function 'getattr', as follows:"
   ]
  },
  {
   "cell_type": "code",
   "execution_count": null,
   "id": "4f500795",
   "metadata": {},
   "outputs": [],
   "source": [
    "print(\"getattr(my_class,'myVariable')\",getattr(my_class,'myVariable'))"
   ]
  },
  {
   "cell_type": "markdown",
   "id": "94aa7673",
   "metadata": {},
   "source": [
    "This is useful if you want to access a lot of class variables that are defined in a list, for instance.\n",
    "\n",
    "Let's first check that the class variable is independent of other variables I define."
   ]
  },
  {
   "cell_type": "code",
   "execution_count": 32,
   "id": "64b7b277",
   "metadata": {},
   "outputs": [
    {
     "name": "stdout",
     "output_type": "stream",
     "text": [
      "my_class.myVariable An input variable\n",
      "myVariable This is another variable\n"
     ]
    }
   ],
   "source": [
    "myVariable = 'This is another variable'\n",
    "\n",
    "print(\"my_class.myVariable\",my_class.myVariable)\n",
    "print(\"myVariable\",myVariable)"
   ]
  },
  {
   "cell_type": "markdown",
   "id": "369e7414",
   "metadata": {},
   "source": [
    "So, that's nice. How do we use this? Well, let's go back to our example from earlier, with the area and circumference of a circle. We can define another class, and define more class methods:"
   ]
  },
  {
   "cell_type": "code",
   "execution_count": 33,
   "id": "b50eefe5",
   "metadata": {},
   "outputs": [],
   "source": [
    "class Circle:\n",
    "    def __init__(self,pi):\n",
    "        self.pi = pi\n",
    "    \n",
    "    def area(self,radius):\n",
    "        return self.pi * radius**2\n",
    "    \n",
    "    def circumference(self,radius):\n",
    "        return 2 * self.pi * radius"
   ]
  },
  {
   "cell_type": "markdown",
   "id": "58706b86",
   "metadata": {},
   "source": [
    "You see that the class method 'area' is defined just like the '\\_\\_init__' method, with the special 'self' argument, and the 'radius' argument. Let's go ahead and use this:"
   ]
  },
  {
   "cell_type": "code",
   "execution_count": 34,
   "id": "eb58490c",
   "metadata": {},
   "outputs": [
    {
     "name": "stdout",
     "output_type": "stream",
     "text": [
      "radius: 2 area(radius): 12.56637061436\n",
      "radius: 3 area(radius): 28.27433388231\n",
      "radius: 4 area(radius): 50.26548245744\n"
     ]
    }
   ],
   "source": [
    "my_circle = Circle(3.14159265359)\n",
    "\n",
    "#We can loop over a list without assigning the list to a variable first\n",
    "for radius in [2,3,4]:\n",
    "    print('radius:',radius,'area(radius):',my_circle.area(radius))"
   ]
  },
  {
   "cell_type": "markdown",
   "id": "3663406d",
   "metadata": {},
   "source": [
    "Class methods are accessed the same way as class variables: with the '.' operator.\n",
    "\n",
    "We can make multiple class instances, each with their own context. Now that you've had some practice, let's combine some steps, and make a list of class instances:"
   ]
  },
  {
   "cell_type": "code",
   "execution_count": 35,
   "id": "60704ba9",
   "metadata": {},
   "outputs": [
    {
     "name": "stdout",
     "output_type": "stream",
     "text": [
      "12.56637061436\n",
      "8\n"
     ]
    }
   ],
   "source": [
    "listOfClasses = [Circle(3.14159265359),\n",
    "                 Circle(2)]\n",
    "\n",
    "myRadius = 2\n",
    "for cls in listOfClasses:\n",
    "    print(getattr(cls,'area')(2))"
   ]
  },
  {
   "cell_type": "markdown",
   "id": "f1526f56",
   "metadata": {},
   "source": [
    "Here, we see the utility of the 'getattr' function from before. You see that the area of the 'circle' defined with pi = 2 is different than that with pi = 3.14159265359. That's because each class instance has its own internal context.\n",
    "\n",
    "We are able to change the internal context, by setting the class variables:"
   ]
  },
  {
   "cell_type": "code",
   "execution_count": 36,
   "id": "d35dffbe",
   "metadata": {},
   "outputs": [
    {
     "name": "stdout",
     "output_type": "stream",
     "text": [
      "cls.pi: 3.14159265359\n",
      "cls.pi: 2\n"
     ]
    }
   ],
   "source": [
    "cls = Circle(3.14159265359)\n",
    "print('cls.pi:',cls.pi)\n",
    "cls.pi = 2\n",
    "print('cls.pi:',cls.pi)"
   ]
  },
  {
   "cell_type": "markdown",
   "id": "753e2150",
   "metadata": {},
   "source": [
    "We can even change class methods, which is useful in some contexts. This gets further into the theory behind Python, and things like class inheritance, polymorphism, private/public methods, and so on. I will *not* discuss those here. You can get rather far without any of these tools, and at this stage, they will probably just confuse you (I know they still confuse me sometimes).\n",
    "\n",
    "Instead, I suggest you move to the next Jupyter notebook, where we discuss Python packages such as numpy and matplotlib, and how to use them for introductory scientific computing."
   ]
  },
  {
   "cell_type": "markdown",
   "id": "31795446",
   "metadata": {},
   "source": [
    "## Resources\n",
    "\n",
    "Below are a few resources for getting started with Python, including installing it and managing packages. There are far too many resources to include all of them; feel free to suggest any that you find helpful!\n",
    "\n",
    "- The Python introduction page: https://www.python.org/about/gettingstarted/\n",
    "- The Anaconda (conda) introduction page: https://conda.io/projects/conda/en/latest/user-guide/getting-started.html\n",
    "- Pip introduction page: https://pip.pypa.io/en/stable/getting-started/\n",
    "- Python style guide: https://peps.python.org/pep-0008/"
   ]
  },
  {
   "cell_type": "code",
   "execution_count": null,
   "id": "c36a10da",
   "metadata": {},
   "outputs": [],
   "source": []
  }
 ],
 "metadata": {
  "kernelspec": {
   "display_name": "Python 3 (ipykernel)",
   "language": "python",
   "name": "python3"
  },
  "language_info": {
   "codemirror_mode": {
    "name": "ipython",
    "version": 3
   },
   "file_extension": ".py",
   "mimetype": "text/x-python",
   "name": "python",
   "nbconvert_exporter": "python",
   "pygments_lexer": "ipython3",
   "version": "3.11.5"
  }
 },
 "nbformat": 4,
 "nbformat_minor": 5
}
