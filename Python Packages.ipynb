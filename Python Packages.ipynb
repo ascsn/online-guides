{
 "cells": [
  {
   "cell_type": "markdown",
   "id": "4c52d08b",
   "metadata": {},
   "source": [
    "# Introduction to Python Packages\n",
    "\n",
    "Contributors: Daniel Lay\n",
    "\n",
    "This is Part 2 of an introductory notebook. This assumes that you understand functions, lists, print statements, and so on, at least at the level of the first Jupyter notebook.\n",
    "\n",
    "For this notebook, you don't need to install anything on your computer. In general, you will want to install all of the packages used below; a guide to Anaconda is linked in the resources page of the previous notebook.\n",
    "\n",
    "As a simple bit of motivation, suppose we want to compute the eigenvalue decomposition of a matrix (you will learn about this in the summer course if you're unfamiliar). There are a number of algorithms metioned on the Wikipedia page, https://en.wikipedia.org/wiki/Eigenvalue_algorithm, but how do you know which one to use? Do you even want to write your own? After all, doing so is time-consuming and error-prone.\n",
    "\n",
    "The answer is, no: you do not have to write your own! Python lets you use what is called a *package*, or a collection of functions/classes, whenever you want. This makes it easy to use pre-written code for common things you might want to do, such as:\n",
    "- Matrix operations (transposes, inverses, eigenvalue decomposition, etc.)\n",
    "- Plotting data (scatterplot, contour plot, 3d graphics, etc.)\n",
    "- Using special functions (trigonometric, polynomials, special functions, etc.)\n",
    "- Reading to/writing from a file\n",
    "\n",
    "So, for an enormous amount of things you want to do, you basically don't have to write *any code at all*. These applications, and many more, will be detailed throughout the summer course, and the rest of the Jupyter notebooks. For now, let's first learn how to use a package."
   ]
  },
  {
   "cell_type": "markdown",
   "id": "9d1a5d81",
   "metadata": {},
   "source": [
    "## Importing packages; numpy\n",
    "\n",
    "The first package we'll use is called 'numpy', which stands for numerical python. It is used for matrix operations. To use a package, we *import* it, using the 'import' statement. We can import a package and call it something else, using the following code:"
   ]
  },
  {
   "cell_type": "code",
   "execution_count": 1,
   "id": "83a3dd51",
   "metadata": {},
   "outputs": [],
   "source": [
    "import numpy as np"
   ]
  },
  {
   "cell_type": "markdown",
   "id": "c55dfd8a",
   "metadata": {},
   "source": [
    "Now, 'np' behaves like the classes you've been introduced to in the previous notebook. To understand this, let's use an example. You're already familiar with a list, and numpy has an analogous object, an array:"
   ]
  },
  {
   "cell_type": "code",
   "execution_count": 2,
   "id": "34dac427",
   "metadata": {},
   "outputs": [
    {
     "name": "stdout",
     "output_type": "stream",
     "text": [
      "my_list: [1, 2, 3]\n",
      "my_array: [1 2 3]\n"
     ]
    }
   ],
   "source": [
    "my_list = [1,2,3]\n",
    "my_array = np.array([1,2,3])\n",
    "\n",
    "print('my_list:',my_list)\n",
    "print('my_array:',my_array)"
   ]
  },
  {
   "cell_type": "markdown",
   "id": "8d757ec8",
   "metadata": {},
   "source": [
    "We created an instance of an array by calling 'np.array', with a list as an argument. It looks like 'my_array' contains the same information as 'my_list'. But what if we want to perform algebraic operations on the list? Say, for instance, we want to square them. With an array, it is trivial: you simply use the '\\*\\*' operator on the array:"
   ]
  },
  {
   "cell_type": "code",
   "execution_count": 3,
   "id": "bb2e8297",
   "metadata": {},
   "outputs": [
    {
     "name": "stdout",
     "output_type": "stream",
     "text": [
      "my_array squared: [1 4 9]\n"
     ]
    }
   ],
   "source": [
    "print('my_array squared:',my_array**2)"
   ]
  },
  {
   "cell_type": "markdown",
   "id": "2aeeb232",
   "metadata": {},
   "source": [
    "That couldn't be any easier! If you're feeling confident, try to accomplish the same with 'my_list' (I won't show it - it's basically always better to use an array).\n",
    "\n",
    "The same is true for a whole lot of operations, such as multiplication by a number:"
   ]
  },
  {
   "cell_type": "code",
   "execution_count": 4,
   "id": "91650a7b",
   "metadata": {},
   "outputs": [
    {
     "name": "stdout",
     "output_type": "stream",
     "text": [
      "2 * my_array: [2 4 6]\n"
     ]
    }
   ],
   "source": [
    "print('2 * my_array:',2*my_array)"
   ]
  },
  {
   "cell_type": "markdown",
   "id": "f1c22c23",
   "metadata": {},
   "source": [
    "Commonly in physics, your data is multi-dimensional - for instance, you could have data defined on an $(x,y)$ grid. The natural way to store this data, then, is to have an object that uses two indices: one for the $x$ coordinate, and another for the $y$ coordinates. Numpy makes this easy:"
   ]
  },
  {
   "cell_type": "code",
   "execution_count": 5,
   "id": "7c41c0ce",
   "metadata": {},
   "outputs": [
    {
     "name": "stdout",
     "output_type": "stream",
     "text": [
      "my_2d_array:\n",
      "[[1 2 3]\n",
      " [4 5 6]]\n"
     ]
    }
   ],
   "source": [
    "my_2d_array = np.array([[1,2,3],\n",
    "                        [4,5,6]])\n",
    "\n",
    "print('my_2d_array:')\n",
    "print(my_2d_array)"
   ]
  },
  {
   "cell_type": "markdown",
   "id": "263ebcce",
   "metadata": {},
   "source": [
    "If you're clever, you notice that we create this array by feeding in a list of lists. The reason to use an array instead is, again, for the ease of algebraic operations. These are accomplished the same as with 'my_array'.\n",
    "\n",
    "There are a lot of ways to make arrays. An incomplete list includes the following:"
   ]
  },
  {
   "cell_type": "code",
   "execution_count": 6,
   "id": "f64e7207",
   "metadata": {},
   "outputs": [
    {
     "name": "stdout",
     "output_type": "stream",
     "text": [
      "np.ones: [1. 1. 1. 1. 1.]\n",
      "np.arange: [0 1 2 3 4]\n",
      "np.linspace [-1.  -0.8 -0.6 -0.4 -0.2  0.   0.2  0.4  0.6  0.8  1. ]\n",
      "np.random.rand [0.14756953 0.49872585 0.84037234 0.0144263  0.38935533]\n"
     ]
    }
   ],
   "source": [
    "#An array of ones, of length 5\n",
    "print('np.ones:',np.ones(5))\n",
    "\n",
    "#The integers from 0 to 5, similar to Python's 'range' statement\n",
    "print('np.arange:',np.arange(5))\n",
    "\n",
    "#Linearly spaced values from -1 to 1, for a total of 11 values\n",
    "print('np.linspace',np.linspace(-1,1,11))\n",
    "\n",
    "#Random numbers\n",
    "print('np.random.rand',np.random.rand(5))"
   ]
  },
  {
   "cell_type": "markdown",
   "id": "a687db49",
   "metadata": {},
   "source": [
    "One other thing that makes arrays incredibly useful is the ability to *reshape* arrays. For example, we can generate 'my_2d_array' from above much more easily:"
   ]
  },
  {
   "cell_type": "code",
   "execution_count": 7,
   "id": "015d0233",
   "metadata": {},
   "outputs": [
    {
     "name": "stdout",
     "output_type": "stream",
     "text": [
      "my_2d_array:\n",
      "[[0 1 2]\n",
      " [3 4 5]]\n"
     ]
    }
   ],
   "source": [
    "my_2d_array = np.arange(6).reshape((2,3))\n",
    "print('my_2d_array:')\n",
    "print(my_2d_array)"
   ]
  },
  {
   "cell_type": "markdown",
   "id": "970d99a0",
   "metadata": {},
   "source": [
    "The *shape* of an array is just the number of dimensions along each axis. You see that the shape of my_2d_array is (2,3), meaning it has 2 rows and 3 columns. Numpy is nice: it keeps track of the shape of an array on its own. To print this, you do the following:"
   ]
  },
  {
   "cell_type": "code",
   "execution_count": 8,
   "id": "a5a6d1c1",
   "metadata": {},
   "outputs": [
    {
     "name": "stdout",
     "output_type": "stream",
     "text": [
      "my_2d_array.shape: (2, 3)\n"
     ]
    }
   ],
   "source": [
    "print('my_2d_array.shape:',my_2d_array.shape)"
   ]
  },
  {
   "cell_type": "markdown",
   "id": "02a0ed54",
   "metadata": {},
   "source": [
    "You can even have 3, 4, 5, etc. dimensional arrays (up to a maximum of 32). This is something to remember when writing code in the future. For instance, when studying quantum mechanics, you may have 3 eigenstates, each defined in $(x,y,z)$ space. The natural way to store this in your code is a 4-dimensional array: the first dimension/index is for which state you're considering, and the remaining 3 are $(x,y,z)$.\n",
    "\n",
    "To understand basic matrix operations, suppose we want to multiply two matrices, $M$ and $N$. They must have compatible dimensions: if $M$ is a matrix of shape $(a,b)$, then $N$ must be of shape $(b,c)$ for the multiplication $MN$ to make sense. We can check this by using 'M.shape', but numpy does this for us when actually trying to multiply them. There are equivalent function calls: either 'np.matmul(M,N)', or the shorthand 'M @ N'.\n",
    "\n",
    "Suppose we try to multiply 'my_2d_array' with itself. We see that numpy raises a 'ValueError', telling us that the dimensions are incompatible:"
   ]
  },
  {
   "cell_type": "code",
   "execution_count": 9,
   "id": "fb8f45b4",
   "metadata": {},
   "outputs": [
    {
     "ename": "ValueError",
     "evalue": "matmul: Input operand 1 has a mismatch in its core dimension 0, with gufunc signature (n?,k),(k,m?)->(n?,m?) (size 2 is different from 3)",
     "output_type": "error",
     "traceback": [
      "\u001b[0;31m---------------------------------------------------------------------------\u001b[0m",
      "\u001b[0;31mValueError\u001b[0m                                Traceback (most recent call last)",
      "Cell \u001b[0;32mIn[9], line 1\u001b[0m\n\u001b[0;32m----> 1\u001b[0m \u001b[38;5;28mprint\u001b[39m(np\u001b[38;5;241m.\u001b[39mmatmul(my_2d_array,my_2d_array))\n",
      "\u001b[0;31mValueError\u001b[0m: matmul: Input operand 1 has a mismatch in its core dimension 0, with gufunc signature (n?,k),(k,m?)->(n?,m?) (size 2 is different from 3)"
     ]
    }
   ],
   "source": [
    "print(np.matmul(my_2d_array,my_2d_array))"
   ]
  },
  {
   "cell_type": "markdown",
   "id": "ed5e8875",
   "metadata": {},
   "source": [
    "One way we could make the shapes compatible is by taking the transpose of 'my_2d_array'. We accomplish this using the '.T' operation. You see that the shapes now make sense for matrix multiplication:"
   ]
  },
  {
   "cell_type": "code",
   "execution_count": 10,
   "id": "c9d9e4b1",
   "metadata": {},
   "outputs": [
    {
     "name": "stdout",
     "output_type": "stream",
     "text": [
      "my_2d_array.shape: (2, 3)\n",
      "my_2d_array.T.shape: (3, 2)\n"
     ]
    }
   ],
   "source": [
    "print('my_2d_array.shape:',my_2d_array.shape)\n",
    "print('my_2d_array.T.shape:',my_2d_array.T.shape)"
   ]
  },
  {
   "cell_type": "markdown",
   "id": "5f8fb2df",
   "metadata": {},
   "source": [
    "Notice that you can chain operations involving a '.' - this is true everywhere in Python.\n",
    "\n",
    "Indeed, the matrix multiplication now works:"
   ]
  },
  {
   "cell_type": "code",
   "execution_count": 11,
   "id": "be348a28",
   "metadata": {},
   "outputs": [
    {
     "name": "stdout",
     "output_type": "stream",
     "text": [
      "my_2d_array @ my_2d_array.T:\n",
      "[[ 5 14]\n",
      " [14 50]]\n"
     ]
    }
   ],
   "source": [
    "print('my_2d_array @ my_2d_array.T:')\n",
    "print(my_2d_array @ my_2d_array.T)"
   ]
  },
  {
   "cell_type": "markdown",
   "id": "dce34088",
   "metadata": {},
   "source": [
    "The last thing I want to talk about with numpy is indexing. We have a 2d array; how do we actually get items out of it (or edit the contents of it)? Well, like a list, we need to use brackets, '\\[\\]'. Since we have a 2D array, to get one element out, we need to use two indices. For instance, the array element in the upper left corner is accessed as 'my_2d_array\\[0,0\\]' (remember that Python starts counting at 0):"
   ]
  },
  {
   "cell_type": "code",
   "execution_count": 12,
   "id": "b7c5cbe4",
   "metadata": {},
   "outputs": [
    {
     "name": "stdout",
     "output_type": "stream",
     "text": [
      "my_2d_array[0,0]: 0\n"
     ]
    }
   ],
   "source": [
    "print('my_2d_array[0,0]:',my_2d_array[0,0])"
   ]
  },
  {
   "cell_type": "markdown",
   "id": "5ae8c864",
   "metadata": {},
   "source": [
    "This also lets you change the value of a component of an array:"
   ]
  },
  {
   "cell_type": "code",
   "execution_count": 13,
   "id": "26fa879c",
   "metadata": {},
   "outputs": [
    {
     "name": "stdout",
     "output_type": "stream",
     "text": [
      "my_2d_array:\n",
      "[[7 1 2]\n",
      " [3 4 5]]\n"
     ]
    }
   ],
   "source": [
    "my_2d_array[0,0] = 7\n",
    "print('my_2d_array:')\n",
    "print(my_2d_array)"
   ]
  },
  {
   "cell_type": "markdown",
   "id": "8bb05c02",
   "metadata": {},
   "source": [
    "Numpy doesn't just stop there, though. You can access the first row of an array by just providing one index, in the first position:"
   ]
  },
  {
   "cell_type": "code",
   "execution_count": 14,
   "id": "82e5f0a1",
   "metadata": {},
   "outputs": [
    {
     "name": "stdout",
     "output_type": "stream",
     "text": [
      "my_2d_array[0]: [7 1 2]\n"
     ]
    }
   ],
   "source": [
    "print('my_2d_array[0]:',my_2d_array[0])"
   ]
  },
  {
   "cell_type": "markdown",
   "id": "098c3837",
   "metadata": {},
   "source": [
    "Similarly, you can access the first column by providing one index, in the second position. To tell numpy that you want everything in the first position, you use the ':' symbol:"
   ]
  },
  {
   "cell_type": "code",
   "execution_count": 15,
   "id": "b56e915d",
   "metadata": {},
   "outputs": [
    {
     "name": "stdout",
     "output_type": "stream",
     "text": [
      "my_2d_array[:,0]: [7 3]\n"
     ]
    }
   ],
   "source": [
    "print('my_2d_array[:,0]:',my_2d_array[:,0])"
   ]
  },
  {
   "cell_type": "markdown",
   "id": "313f7a29",
   "metadata": {},
   "source": [
    "You can, of course, access any row or column, not just the first. This extends naturally to more dimensions.\n",
    "\n",
    "What we have done is called *indexing*. Numpy indexing lets you do many things, such as getting every second value, getting the first $k$ values, getting values from a list of indices, and getting values matching a certain condition. It's very powerful, and far too involved to discuss everything here. Hopefully, this should be a good starting point for looking up further information - the numpy documentation is quite thorough."
   ]
  },
  {
   "cell_type": "markdown",
   "id": "71342ff4",
   "metadata": {},
   "source": [
    "For the sake of time, I will now move on from numpy. You will see it a lot in the future, but for now I'll just leave you with some common use cases, and the corresponding functions:\n",
    "\n",
    "- Trace of a matrix: np.trace\n",
    "- Eigenvalue decomposition: np.linalg.eig, np.linalg.eigh\n",
    "- Singular value decomposition: np.linalg.svd\n",
    "- General linear algebra: see methods within np.linalg\n",
    "- Polynomial fitting, special polynomials (Chebyshev, etc.): see np.polynomial\n",
    "- Random numbers (sampled from Gaussian, uniform distributions, etc.): see np.random\n",
    "- General matrix-vector products (can be confusing, but is useful for speed): np.einsum\n",
    "\n",
    "And, of course, the package itself has a beginner's guide: https://numpy.org/doc/stable/user/absolute_beginners.html"
   ]
  },
  {
   "cell_type": "markdown",
   "id": "bf1f49f4",
   "metadata": {},
   "source": [
    "## Plotting\n",
    "\n",
    "Plotting is trickier to describe in a short way, because there's so many different things you want to do. Before getting into it, I highly recommend that you save your plotting scripts for reference later - that way, if you find a nice plotting trick, you can use it wherever.\n",
    "\n",
    "The main plotting package in Python is matplotlib, and specifically matplotlib.pyplot. Now is a good time to mention that you can import subpackages, using the '.' operator to specify it:"
   ]
  },
  {
   "cell_type": "code",
   "execution_count": 16,
   "id": "d176d33f",
   "metadata": {},
   "outputs": [],
   "source": [
    "import matplotlib.pyplot as plt"
   ]
  },
  {
   "cell_type": "markdown",
   "id": "0525fdfb",
   "metadata": {},
   "source": [
    "As an aside, it is convention to import all packages at the top of the script, for readability as much as anything else.\n",
    "\n",
    "Now, what can we do with it? First, let's think about something to plot. To get your head around numpy's capabilities, let's plot the $\\sin$ function, using np.sin. First, we create a sample dataset, on the interval $[0,\\pi]$:"
   ]
  },
  {
   "cell_type": "code",
   "execution_count": 17,
   "id": "5e462a16",
   "metadata": {},
   "outputs": [
    {
     "name": "stdout",
     "output_type": "stream",
     "text": [
      "data_range: [0.         0.06411414 0.12822827 0.19234241 0.25645654 0.32057068\n",
      " 0.38468481 0.44879895 0.51291309 0.57702722 0.64114136 0.70525549\n",
      " 0.76936963 0.83348377 0.8975979  0.96171204 1.02582617 1.08994031\n",
      " 1.15405444 1.21816858 1.28228272 1.34639685 1.41051099 1.47462512\n",
      " 1.53873926 1.60285339 1.66696753 1.73108167 1.7951958  1.85930994\n",
      " 1.92342407 1.98753821 2.05165235 2.11576648 2.17988062 2.24399475\n",
      " 2.30810889 2.37222302 2.43633716 2.5004513  2.56456543 2.62867957\n",
      " 2.6927937  2.75690784 2.82102197 2.88513611 2.94925025 3.01336438\n",
      " 3.07747852 3.14159265]\n",
      "sin_vals: [0.00000000e+00 6.40702200e-02 1.27877162e-01 1.91158629e-01\n",
      " 2.53654584e-01 3.15108218e-01 3.75267005e-01 4.33883739e-01\n",
      " 4.90717552e-01 5.45534901e-01 5.98110530e-01 6.48228395e-01\n",
      " 6.95682551e-01 7.40277997e-01 7.81831482e-01 8.20172255e-01\n",
      " 8.55142763e-01 8.86599306e-01 9.14412623e-01 9.38468422e-01\n",
      " 9.58667853e-01 9.74927912e-01 9.87181783e-01 9.95379113e-01\n",
      " 9.99486216e-01 9.99486216e-01 9.95379113e-01 9.87181783e-01\n",
      " 9.74927912e-01 9.58667853e-01 9.38468422e-01 9.14412623e-01\n",
      " 8.86599306e-01 8.55142763e-01 8.20172255e-01 7.81831482e-01\n",
      " 7.40277997e-01 6.95682551e-01 6.48228395e-01 5.98110530e-01\n",
      " 5.45534901e-01 4.90717552e-01 4.33883739e-01 3.75267005e-01\n",
      " 3.15108218e-01 2.53654584e-01 1.91158629e-01 1.27877162e-01\n",
      " 6.40702200e-02 1.22464680e-16]\n"
     ]
    }
   ],
   "source": [
    "data_range = np.linspace(0,np.pi,num=50)\n",
    "sin_vals = np.sin(data_range)\n",
    "\n",
    "print('data_range:',data_range)\n",
    "print('sin_vals:',sin_vals)"
   ]
  },
  {
   "cell_type": "markdown",
   "id": "ad087f53",
   "metadata": {},
   "source": [
    "There's a number of equivalent ways to make plots. Often, you see people write code using 'plt.plot', which only lets you modify the most recently created figure. I prefer to use 'plt.subplots', because the objects it returns lets you edit the plot later.\n",
    "\n",
    "I'll describe what I'm doing in comments in the code snippet below, because jupyter doesn't let you edit the figure after it's shown. I suggest that you play around with commenting out individual lines, to see what happens!"
   ]
  },
  {
   "cell_type": "code",
   "execution_count": 18,
   "id": "1fdbecc2",
   "metadata": {},
   "outputs": [
    {
     "data": {
      "text/plain": [
       "[[<matplotlib.axis.XTick at 0x7f72641a5850>,\n",
       "  <matplotlib.axis.XTick at 0x7f7263e66a50>,\n",
       "  <matplotlib.axis.XTick at 0x7f7263e66cd0>]]"
      ]
     },
     "execution_count": 18,
     "metadata": {},
     "output_type": "execute_result"
    },
    {
     "data": {
      "image/png": "[encoded data removed]",
      "text/plain": [
       "<Figure size 640x480 with 1 Axes>"
      ]
     },
     "metadata": {},
     "output_type": "display_data"
    }
   ],
   "source": [
    "\"\"\" First, we plot the sin function \"\"\"\n",
    "fig, ax = plt.subplots()                     #Makes the plot\n",
    "ax.plot(data_range,sin_vals,                 #Plots the function on the axis\n",
    "        label='sin')                         #We label this plot for later.\n",
    "\n",
    "\"\"\" Next, we add axis labels \"\"\"\n",
    "ax.set_xlabel('x')                           #There is a specific function for this....\n",
    "ax.set(ylabel='f(x)')                        #or we can use the catch-all 'ax.set'\n",
    "\n",
    "\"\"\" We can add another function, \"\"\"\n",
    "ax.plot(data_range,np.exp(data_range),\n",
    "        marker='.',label='exp')              #We can add a marker at the points we actually\n",
    "                                             #evaluate our data at\n",
    "\"\"\" and even a third \"\"\"\n",
    "ax.scatter(data_range[::2],\n",
    "           np.cos(data_range[::2]),          #We can also make a scatter plot, with no connecting lines\n",
    "           color='red',label='cos')          #We are free to specify the color as well\n",
    "\n",
    "\"\"\" For readability, add extra text \"\"\"\n",
    "ax.legend()                                  #The legend is constructed using the labels we wrote above\n",
    "ax.set(title='My Plot')                      #And, the title is usually helpful\n",
    "\n",
    "\"\"\" Extra stuff, because we can \"\"\"\n",
    "ax.set(xticks=(0,1,3))                       #Pyplot is usually pretty good with plot ticks,\n",
    "                                             #but you can change them\n",
    "\n",
    "#ax.set(yscale='log')                         #Plotting things on a log scale is useful if you have exponential\n",
    "#                                             #growth/decay"
   ]
  },
  {
   "cell_type": "markdown",
   "id": "75769c3a",
   "metadata": {},
   "source": [
    "There's an enormous amount of freedom you have when making such a plot. A non-exhaustive list includes:\n",
    "\n",
    "- Change the tick marks\n",
    "- Change the x/y scale\n",
    "- Change fonts and font sizes\n",
    "- Add error bars\n",
    "- Fill in a region between two curves\n",
    "- Add multiple legends\n",
    "- Label points\n",
    "- Add gridlines\n",
    "- Add a zoomed-in inset\n",
    "- Adjust the aspect ratio\n",
    "\n",
    "There are even packages you can import that change the style of the plot completely, such as https://github.com/garrettj403/SciencePlots:"
   ]
  },
  {
   "cell_type": "code",
   "execution_count": 19,
   "id": "fc62418f",
   "metadata": {},
   "outputs": [
    {
     "data": {
      "text/plain": [
       "[[<matplotlib.axis.XTick at 0x7f7263c90f50>,\n",
       "  <matplotlib.axis.XTick at 0x7f7263c24c10>,\n",
       "  <matplotlib.axis.XTick at 0x7f7263c98b10>]]"
      ]
     },
     "execution_count": 19,
     "metadata": {},
     "output_type": "execute_result"
    },
    {
     "data": {
      "image/png": "[encoded data removed]",
      "text/plain": [
       "<Figure size 350x262.5 with 1 Axes>"
      ]
     },
     "metadata": {},
     "output_type": "display_data"
    }
   ],
   "source": [
    "import scienceplots\n",
    "plt.style.use('science')                     #This sets the style to use, globally (for the entire notebook)\n",
    "\n",
    "\"\"\" First, we plot the sin function \"\"\"\n",
    "fig, ax = plt.subplots()                     #Makes the plot\n",
    "ax.plot(data_range,sin_vals,                 #Plots the function on the axis\n",
    "        label='sin')                         #We label this plot for later.\n",
    "\n",
    "\"\"\" Next, we add axis labels \"\"\"\n",
    "ax.set_xlabel('x')                           #There is a specific function for this....\n",
    "ax.set(ylabel='f(x)')                        #or we can use the catch-all 'ax.set'\n",
    "\n",
    "\"\"\" We can add another function, \"\"\"\n",
    "ax.plot(data_range,np.exp(data_range),\n",
    "        marker='.',label='exp')              #We can add a marker at the points we actually\n",
    "                                             #evaluate our data at\n",
    "\"\"\" and even a third \"\"\"\n",
    "ax.scatter(data_range[::2],\n",
    "           np.cos(data_range[::2]),          #We can also make a scatter plot, with no connecting lines\n",
    "           color='red',label='cos')          #We are free to specify the color as well\n",
    "\n",
    "\"\"\" For readability, add extra text \"\"\"\n",
    "ax.legend()                                  #The legend is constructed using the labels we wrote above\n",
    "ax.set(title='My Plot')                      #And, the title is usually helpful\n",
    "\n",
    "\"\"\" Extra stuff, because we can \"\"\"\n",
    "ax.set(xticks=(0,1,3))                       #Pyplot is usually pretty good with plot ticks,\n",
    "                                             #but you can change them\n",
    "\n",
    "#ax.set(yscale='log')                         #Plotting things on a log scale is useful if you have exponential\n",
    "#                                             #growth/decay"
   ]
  },
  {
   "cell_type": "markdown",
   "id": "1bc13580",
   "metadata": {},
   "source": [
    "If you don't like the style, you can reset the style parameters:"
   ]
  },
  {
   "cell_type": "code",
   "execution_count": 21,
   "id": "93d6313f",
   "metadata": {},
   "outputs": [
    {
     "data": {
      "image/png": "[encoded data removed]",
      "text/plain": [
       "<Figure size 640x480 with 1 Axes>"
      ]
     },
     "metadata": {},
     "output_type": "display_data"
    },
    {
     "data": {
      "image/png": "[encoded data removed]",
      "text/plain": [
       "<Figure size 640x480 with 1 Axes>"
      ]
     },
     "metadata": {},
     "output_type": "display_data"
    }
   ],
   "source": [
    "import matplotlib as mpl\n",
    "mpl.rcParams.update(mpl.rcParamsDefault)\n",
    "\n",
    "\"\"\" First, we plot the sin function \"\"\"\n",
    "fig, ax = plt.subplots()                     #Makes the plot\n",
    "ax.plot(data_range,sin_vals,                 #Plots the function on the axis\n",
    "        label='sin')                         #We label this plot for later.\n",
    "\n",
    "\"\"\" Next, we add axis labels \"\"\"\n",
    "ax.set_xlabel('x')                           #There is a specific function for this....\n",
    "ax.set(ylabel='f(x)')                        #or we can use the catch-all 'ax.set'\n",
    "\n",
    "\"\"\" We can add another function, \"\"\"\n",
    "ax.plot(data_range,np.exp(data_range),\n",
    "        marker='.',label='exp')              #We can add a marker at the points we actually\n",
    "                                             #evaluate our data at\n",
    "\"\"\" and even a third \"\"\"\n",
    "ax.scatter(data_range[::2],\n",
    "           np.cos(data_range[::2]),          #We can also make a scatter plot, with no connecting lines\n",
    "           color='red',label='cos')          #We are free to specify the color as well\n",
    "\n",
    "\"\"\" For readability, add extra text \"\"\"\n",
    "ax.legend()                                  #The legend is constructed using the labels we wrote above\n",
    "ax.set(title='My Plot')                      #And, the title is usually helpful\n",
    "\n",
    "\"\"\" Extra stuff, because we can \"\"\"\n",
    "ax.set(xticks=(0,1,3))                       #Pyplot is usually pretty good with plot ticks,\n",
    "                                             #but you can change them\n",
    "\n",
    "#ax.set(yscale='log')                         #Plotting things on a log scale is useful if you have exponential\n",
    "#                                             #growth/decay\n",
    "\n",
    "plt.show()                                   #Sometimes this is necessary for iPython to actually display the result"
   ]
  },
  {
   "cell_type": "markdown",
   "id": "b552bea8",
   "metadata": {},
   "source": [
    "There are many, many, *many* other things you can do. I expect you'll see a number of these applications in future notebooks. Matplotlib also has a large number of examples that I recommend looking through, some of which are listed below:\n",
    "\n",
    "- Histogram: https://matplotlib.org/stable/gallery/lines_bars_and_markers/filled_step.html\n",
    "- Contour plot: https://matplotlib.org/stable/gallery/images_contours_and_fields/contourf_demo.html\n",
    "- 3D plot: https://matplotlib.org/stable/gallery/mplot3d/2dcollections3d.html#sphx-glr-gallery-mplot3d-2dcollections3d-py\n",
    "\n",
    "These resources are all found at https://matplotlib.org/stable/gallery/index.html, along with an incredible number of existing examples. Incidentally, Pablo has had great luck using ChatGPT to generate plotting code, so you might try that as well. And, of course - ask around!"
   ]
  },
  {
   "cell_type": "markdown",
   "id": "9300c418",
   "metadata": {},
   "source": [
    "## Resources\n",
    "\n",
    "There are far too many packages that exist for me to go through them all. Instead, I will list some of the common ones and their use cases, grouped sort of by use case.\n",
    "\n",
    "General utilities:\n",
    "- os: operating system actions (making folders, checking if a file exists, etc.)\n",
    "- sys: system-specific operations (where Python should look for packages, etc.)\n",
    "- shutil: file operations (copying/moving files, like in the terminal, etc.)\n",
    "- glob: finding files by pattern matching\n",
    "\n",
    "Scientific computing:\n",
    "- numpy\n",
    "- scikit-learn: machine learning (regression, clustering, classification, etc.)\n",
    "- scipy: general scientific computing (special functions, optimization, integration, interpolation, etc.)\n",
    "\n",
    "Plotting:\n",
    "- matplotlib\n",
    "- plotly: interactive plots, 3d plots, etc.\n",
    "\n",
    "File input/output:\n",
    "- h5py: HDF5 file format, which is binary-like (somewhat compact), implemented in many different programming languages, simple to use\n",
    "- pandas: for tabular data, written in human-readable file, easily handles weirldy-formatted data\n",
    "\n",
    "Other:\n",
    "- multiprocessing: for running code using multiple CPU cores (see also multiprocess)\n",
    "- jax: just-in-time compilation that can speed up some code, lets you run on GPUs easily\n",
    "- dash: making interactive websites (see e.g. https://bmex.dev/masses as an example)"
   ]
  },
  {
   "cell_type": "code",
   "execution_count": null,
   "id": "897a9364",
   "metadata": {},
   "outputs": [],
   "source": []
  }
 ],
 "metadata": {
  "kernelspec": {
   "display_name": "Python 3 (ipykernel)",
   "language": "python",
   "name": "python3"
  },
  "language_info": {
   "codemirror_mode": {
    "name": "ipython",
    "version": 3
   },
   "file_extension": ".py",
   "mimetype": "text/x-python",
   "name": "python",
   "nbconvert_exporter": "python",
   "pygments_lexer": "ipython3",
   "version": "3.11.5"
  }
 },
 "nbformat": 4,
 "nbformat_minor": 5
}
