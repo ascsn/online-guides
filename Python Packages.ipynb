{
 "cells": [
  {
   "cell_type": "markdown",
   "id": "4c52d08b",
   "metadata": {},
   "source": [
    "# Introduction to Python Packages\n",
    "\n",
    "Contributors: Daniel Lay\n",
    "\n",
    "This is Part 2 of an introductory notebook. This assumes that you understand functions, lists, print statements, and so on, at least at the level of the first Jupyter notebook.\n",
    "\n",
    "For this notebook, you don't need to install anything on your computer. In general, you will want to install all of the packages used below; a guide to Anaconda is linked in the resources page of the previous notebook.\n",
    "\n",
    "As a simple bit of motivation, suppose we want to compute the eigenvalue decomposition of a matrix (you will learn about this in the summer course if you're unfamiliar). There are a number of algorithms metioned on the Wikipedia page, https://en.wikipedia.org/wiki/Eigenvalue_algorithm, but how do you know which one to use? Do you even want to write your own? After all, doing so is time-consuming and error-prone.\n",
    "\n",
    "The answer is, no: you do not have to write your own! Python lets you use what is called a *package*, or a collection of functions/classes, whenever you want. This makes it easy to use pre-written code for common things you might want to do, such as:\n",
    "- Matrix operations (transposes, inverses, eigenvalue decomposition, etc.)\n",
    "- Plotting data (scatterplot, contour plot, 3d graphics, etc.)\n",
    "- Using special functions (trigonometric, polynomials, special functions, etc.)\n",
    "- Reading to/writing from a file\n",
    "\n",
    "So, for an enormous amount of things you want to do, you basically don't have to write *any code at all*. These applications, and many more, will be detailed throughout the summer course, and the rest of the Jupyter notebooks. For now, let's first learn how to use a package."
   ]
  },
  {
   "cell_type": "markdown",
   "id": "9d1a5d81",
   "metadata": {},
   "source": [
    "## Importing packages; numpy\n",
    "\n",
    "The first package we'll use is called 'numpy', which stands for numerical python. It is used for matrix operations. To use a package, we *import* it, using the 'import' statement. We can import a package and call it something else, using the following code:"
   ]
  },
  {
   "cell_type": "code",
   "execution_count": 1,
   "id": "83a3dd51",
   "metadata": {},
   "outputs": [],
   "source": [
    "import numpy as np"
   ]
  },
  {
   "cell_type": "markdown",
   "id": "c55dfd8a",
   "metadata": {},
   "source": [
    "Now, 'np' behaves like the classes you've been introduced to in the previous notebook. To understand this, let's use an example. You're already familiar with a list, and numpy has an analogous object, an array:"
   ]
  },
  {
   "cell_type": "code",
   "execution_count": 2,
   "id": "34dac427",
   "metadata": {},
   "outputs": [
    {
     "name": "stdout",
     "output_type": "stream",
     "text": [
      "my_list: [1, 2, 3]\n",
      "my_array: [1 2 3]\n"
     ]
    }
   ],
   "source": [
    "my_list = [1,2,3]\n",
    "my_array = np.array([1,2,3])\n",
    "\n",
    "print('my_list:',my_list)\n",
    "print('my_array:',my_array)"
   ]
  },
  {
   "cell_type": "markdown",
   "id": "8d757ec8",
   "metadata": {},
   "source": [
    "We created an instance of an array by calling 'np.array', with a list as an argument. It looks like 'my_array' contains the same information as 'my_list'. But what if we want to perform algebraic operations on the list? Say, for instance, we want to square them. With an array, it is trivial: you simply use the '\\*\\*' operator on the array:"
   ]
  },
  {
   "cell_type": "code",
   "execution_count": 3,
   "id": "bb2e8297",
   "metadata": {},
   "outputs": [
    {
     "name": "stdout",
     "output_type": "stream",
     "text": [
      "my_array squared: [1 4 9]\n"
     ]
    }
   ],
   "source": [
    "print('my_array squared:',my_array**2)"
   ]
  },
  {
   "cell_type": "markdown",
   "id": "2aeeb232",
   "metadata": {},
   "source": [
    "That couldn't be any easier! If you're feeling confident, try to accomplish the same with 'my_list' (I won't show it - it's basically always better to use an array).\n",
    "\n",
    "The same is true for a whole lot of operations, such as multiplication by a number:"
   ]
  },
  {
   "cell_type": "code",
   "execution_count": 4,
   "id": "91650a7b",
   "metadata": {},
   "outputs": [
    {
     "name": "stdout",
     "output_type": "stream",
     "text": [
      "2 * my_array: [2 4 6]\n"
     ]
    }
   ],
   "source": [
    "print('2 * my_array:',2*my_array)"
   ]
  },
  {
   "cell_type": "markdown",
   "id": "f1c22c23",
   "metadata": {},
   "source": [
    "Commonly in physics, your data is multi-dimensional - for instance, you could have data defined on an $(x,y)$ grid. The natural way to store this data, then, is to have an object that uses two indices: one for the $x$ coordinate, and another for the $y$ coordinates. Numpy makes this easy:"
   ]
  },
  {
   "cell_type": "code",
   "execution_count": 5,
   "id": "7c41c0ce",
   "metadata": {},
   "outputs": [
    {
     "name": "stdout",
     "output_type": "stream",
     "text": [
      "my_2d_array:\n",
      "[[1 2 3]\n",
      " [4 5 6]]\n"
     ]
    }
   ],
   "source": [
    "my_2d_array = np.array([[1,2,3],\n",
    "                        [4,5,6]])\n",
    "\n",
    "print('my_2d_array:')\n",
    "print(my_2d_array)"
   ]
  },
  {
   "cell_type": "markdown",
   "id": "263ebcce",
   "metadata": {},
   "source": [
    "If you're clever, you notice that we create this array by feeding in a list of lists. The reason to use an array instead is, again, for the ease of algebraic operations. These are accomplished the same as with 'my_array'.\n",
    "\n",
    "There are a lot of ways to make arrays. An incomplete list includes the following:"
   ]
  },
  {
   "cell_type": "code",
   "execution_count": 6,
   "id": "f64e7207",
   "metadata": {},
   "outputs": [
    {
     "name": "stdout",
     "output_type": "stream",
     "text": [
      "np.ones: [1. 1. 1. 1. 1.]\n",
      "np.arange: [0 1 2 3 4]\n",
      "np.linspace [-1.  -0.8 -0.6 -0.4 -0.2  0.   0.2  0.4  0.6  0.8  1. ]\n",
      "np.random.rand [0.33410863 0.19856239 0.40811521 0.14106184 0.40119994]\n"
     ]
    }
   ],
   "source": [
    "#An array of ones, of length 5\n",
    "print('np.ones:',np.ones(5))\n",
    "\n",
    "#The integers from 0 to 5, similar to Python's 'range' statement\n",
    "print('np.arange:',np.arange(5))\n",
    "\n",
    "#Linearly spaced values from -1 to 1, for a total of 11 values\n",
    "print('np.linspace',np.linspace(-1,1,11))\n",
    "\n",
    "#Random numbers\n",
    "print('np.random.rand',np.random.rand(5))"
   ]
  },
  {
   "cell_type": "markdown",
   "id": "a687db49",
   "metadata": {},
   "source": [
    "One other thing that makes arrays incredibly useful is the ability to *reshape* arrays. For example, we can generate 'my_2d_array' from above much more easily:"
   ]
  },
  {
   "cell_type": "code",
   "execution_count": 7,
   "id": "015d0233",
   "metadata": {},
   "outputs": [
    {
     "name": "stdout",
     "output_type": "stream",
     "text": [
      "my_2d_array:\n",
      "[[0 1 2]\n",
      " [3 4 5]]\n"
     ]
    }
   ],
   "source": [
    "my_2d_array = np.arange(6).reshape((2,3))\n",
    "print('my_2d_array:')\n",
    "print(my_2d_array)"
   ]
  },
  {
   "cell_type": "markdown",
   "id": "970d99a0",
   "metadata": {},
   "source": [
    "The *shape* of an array is just the number of dimensions along each axis. You see that the shape of my_2d_array is (2,3), meaning it has 2 rows and 3 columns. Numpy is nice: it keeps track of the shape of an array on its own. To print this, you do the following:"
   ]
  },
  {
   "cell_type": "code",
   "execution_count": 8,
   "id": "eec84cd0",
   "metadata": {},
   "outputs": [
    {
     "name": "stdout",
     "output_type": "stream",
     "text": [
      "my_2d_array.shape: (2, 3)\n"
     ]
    }
   ],
   "source": [
    "print('my_2d_array.shape:',my_2d_array.shape)"
   ]
  },
  {
   "cell_type": "markdown",
   "id": "333cf3c7",
   "metadata": {},
   "source": [
    "You can even have 3, 4, 5, etc. dimensional arrays (up to a maximum of 32). This is something to remember when writing code in the future. For instance, when studying quantum mechanics, you may have 3 eigenstates, each defined in $(x,y,z)$ space. The natural way to store this in your code is a 4-dimensional array: the first dimension/index is for which state you're considering, and the remaining 3 are $(x,y,z)$.\n",
    "\n",
    "To understand basic matrix operations, suppose we want to multiply two matrices, $M$ and $N$. They must have compatible dimensions: if $M$ is a matrix of shape $(a,b)$, then $N$ must be of shape $(b,c)$ for the multiplication $MN$ to make sense. We can check this by using 'M.shape', but numpy does this for us when actually trying to multiply them. There are equivalent function calls: either 'np.matmul(M,N)', or the shorthand 'M @ N'.\n",
    "\n",
    "Suppose we try to multiply 'my_2d_array' with itself. We see that numpy raises a 'ValueError', telling us that the dimensions are incompatible:"
   ]
  },
  {
   "cell_type": "code",
   "execution_count": 10,
   "id": "4fa85239",
   "metadata": {},
   "outputs": [
    {
     "ename": "ValueError",
     "evalue": "matmul: Input operand 1 has a mismatch in its core dimension 0, with gufunc signature (n?,k),(k,m?)->(n?,m?) (size 2 is different from 3)",
     "output_type": "error",
     "traceback": [
      "\u001b[0;31m---------------------------------------------------------------------------\u001b[0m",
      "\u001b[0;31mValueError\u001b[0m                                Traceback (most recent call last)",
      "Cell \u001b[0;32mIn[10], line 1\u001b[0m\n\u001b[0;32m----> 1\u001b[0m \u001b[38;5;28mprint\u001b[39m(np\u001b[38;5;241m.\u001b[39mmatmul(my_2d_array,my_2d_array))\n",
      "\u001b[0;31mValueError\u001b[0m: matmul: Input operand 1 has a mismatch in its core dimension 0, with gufunc signature (n?,k),(k,m?)->(n?,m?) (size 2 is different from 3)"
     ]
    }
   ],
   "source": [
    "print(np.matmul(my_2d_array,my_2d_array))"
   ]
  },
  {
   "cell_type": "markdown",
   "id": "0669e1e7",
   "metadata": {},
   "source": [
    "One way we could make the shapes compatible is by taking the transpose of 'my_2d_array'. We accomplish this using the '.T' operation. You see that the shapes now make sense for matrix multiplication:"
   ]
  },
  {
   "cell_type": "code",
   "execution_count": 11,
   "id": "7bc618b1",
   "metadata": {},
   "outputs": [
    {
     "name": "stdout",
     "output_type": "stream",
     "text": [
      "my_2d_array.shape: (2, 3)\n",
      "my_2d_array.T.shape: (3, 2)\n"
     ]
    }
   ],
   "source": [
    "print('my_2d_array.shape:',my_2d_array.shape)\n",
    "print('my_2d_array.T.shape:',my_2d_array.T.shape)"
   ]
  },
  {
   "cell_type": "markdown",
   "id": "aef4d573",
   "metadata": {},
   "source": [
    "Notice that you can chain operations involving a '.' - this is true everywhere in Python.\n",
    "\n",
    "Indeed, the matrix multiplication now works:"
   ]
  },
  {
   "cell_type": "code",
   "execution_count": 13,
   "id": "2a0c5394",
   "metadata": {},
   "outputs": [
    {
     "name": "stdout",
     "output_type": "stream",
     "text": [
      "my_2d_array @ my_2d_array.T:\n",
      "[[ 5 14]\n",
      " [14 50]]\n"
     ]
    }
   ],
   "source": [
    "print('my_2d_array @ my_2d_array.T:')\n",
    "print(my_2d_array @ my_2d_array.T)"
   ]
  },
  {
   "cell_type": "markdown",
   "id": "58fa923d",
   "metadata": {},
   "source": [
    "The last thing I want to talk about with numpy is indexing. We have a 2d array; how do we actually get items out of it (or edit the contents of it)? Well, like a list, we ca"
   ]
  },
  {
   "cell_type": "markdown",
   "id": "9ae1853e",
   "metadata": {},
   "source": [
    "For the sake of time, I will now move on from numpy. You will see it a lot in the future, but for now I'll just leave you with some common use cases, and the corresponding functions:\n",
    "\n",
    "- Trace of a matrix: np.trace\n",
    "- Eigenvalue decomposition: np.linalg.eig, np.linalg.eigh\n",
    "- Singular value decomposition: np.linalg.svd\n",
    "- General linear algebra: see methods within np.linalg\n",
    "- Polynomial fitting, special polynomials (Chebyshev, etc.): see np.polynomial\n",
    "- Random numbers (sampled from Gaussian, uniform distributions, etc.): see np.random\n",
    "- General matrix-vector products (can be confusing, but is useful for speed): np.einsum\n",
    "\n",
    "And, of course, the package itself has a beginner's guide: https://numpy.org/doc/stable/user/absolute_beginners.html"
   ]
  },
  {
   "cell_type": "markdown",
   "id": "bf1f49f4",
   "metadata": {},
   "source": [
    "## Plotting\n",
    "\n",
    "TODO: plot nonsense array from numpy, plot random scatter plot, maybe do eigenvalue decomposition and plot that or something. Want a mix of line/scatter/contour/3d"
   ]
  },
  {
   "cell_type": "markdown",
   "id": "443737f0",
   "metadata": {},
   "source": [
    "## Common functions\n",
    "\n",
    "TODO: use np.sin, scipy.special.whatever, and so on. then use those in plots"
   ]
  },
  {
   "cell_type": "markdown",
   "id": "9300c418",
   "metadata": {},
   "source": [
    "## Resources\n",
    "\n",
    "TODO: common packages for common use cases"
   ]
  }
 ],
 "metadata": {
  "kernelspec": {
   "display_name": "Python 3 (ipykernel)",
   "language": "python",
   "name": "python3"
  },
  "language_info": {
   "codemirror_mode": {
    "name": "ipython",
    "version": 3
   },
   "file_extension": ".py",
   "mimetype": "text/x-python",
   "name": "python",
   "nbconvert_exporter": "python",
   "pygments_lexer": "ipython3",
   "version": "3.11.5"
  }
 },
 "nbformat": 4,
 "nbformat_minor": 5
}
