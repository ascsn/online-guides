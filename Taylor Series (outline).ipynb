{
 "cells": [
  {
   "cell_type": "markdown",
   "id": "68dd3da8",
   "metadata": {},
   "source": [
    "# Taylor Series\n",
    "\n",
    "Contributors: Daniel Lay, Pablo Giuliani (probably)\n",
    "\n",
    "## Outline\n",
    "\n",
    "Why a Taylor series? (intro sentences) - Daniel\n",
    "- Helps visualize/understand complicated behavior\n",
    "    - Harmonic expansion to various functions\n",
    "- Helps with computational cost\n",
    "    - Exact solution in harmonic approximation faster than numerical solution\n",
    "\n",
    "Quick review of course content - Josh\n",
    "- Probably just a couple of examples\n",
    "    - sin(x), 1/(x+1), polynomial centered away from 0\n",
    "\n",
    "Use it to solve ODE - Daniel\n",
    "- Chaotic oscillator in small-angle approximation ($\\ddot{x} = \\sin(x)$)\n",
    "    - Cool animation of real behavior, plus Taylor series approximation\n",
    "    - Also, slider to include more terms in series expansion\n",
    "    \n",
    "Something in more than 1 dimension? - for later, when they do multivariable calculus\n",
    "- The coolest part is the visualization, so pick a nice example from above and add an extra coordinate\n"
   ]
  },
  {
   "cell_type": "code",
   "execution_count": null,
   "id": "a50773eb",
   "metadata": {},
   "outputs": [],
   "source": []
  }
 ],
 "metadata": {
  "kernelspec": {
   "display_name": "Python 3 (ipykernel)",
   "language": "python",
   "name": "python3"
  },
  "language_info": {
   "codemirror_mode": {
    "name": "ipython",
    "version": 3
   },
   "file_extension": ".py",
   "mimetype": "text/x-python",
   "name": "python",
   "nbconvert_exporter": "python",
   "pygments_lexer": "ipython3",
   "version": "3.11.5"
  }
 },
 "nbformat": 4,
 "nbformat_minor": 5
}
