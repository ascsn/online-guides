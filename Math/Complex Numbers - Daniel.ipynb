{
 "cells": [
  {
   "cell_type": "markdown",
   "id": "c507a193",
   "metadata": {},
   "source": [
    "# Complex Numbers in Python\n",
    "\n",
    "Contributors: Daniel Lay, TODO\n",
    "\n",
    "A complex number $z=x+iy$ has a real part, $x$, and an imaginary part, $y$. In this notebook, we'll discuss:\n",
    "\n",
    "- How to use complex numbers in Python, including common pitfalls\n",
    "- When complex numbers show up in physics, and numerical methods for such problems (too grandiose?)\n",
    "- The Fourier transformation\n",
    "- Contour integration, and how to visualize it\n",
    "\n",
    "## The Basics\n",
    "\n",
    "Python has native support for complex numbers. To write a complex number, such as $3+4i$, you write the code '3+4 * 1j':"
   ]
  },
  {
   "cell_type": "code",
   "execution_count": 3,
   "id": "cbcb9b91",
   "metadata": {},
   "outputs": [
    {
     "name": "stdout",
     "output_type": "stream",
     "text": [
      "type(my_complex_number): <class 'complex'>\n"
     ]
    }
   ],
   "source": [
    "my_complex_number = 3 + 4*1j\n",
    "print(\"type(my_complex_number):\",type(my_complex_number))"
   ]
  },
  {
   "cell_type": "markdown",
   "id": "858257e3",
   "metadata": {},
   "source": [
    "As you can see, the variable 'my_complex_number' is of class 'complex', which is Python's way of saying it's a complex number. Additionally, some operations respect that this is a complex number. For instance, the 'abs' function now behaves as the mathematical operation $|z|=\\sqrt{x^2+y^2}$, as we can check with our complex variable:"
   ]
  },
  {
   "cell_type": "code",
   "execution_count": 7,
   "id": "34140cf7",
   "metadata": {},
   "outputs": [
    {
     "name": "stdout",
     "output_type": "stream",
     "text": [
      "abs(my_complex_number): 5.0\n"
     ]
    }
   ],
   "source": [
    "print('abs(my_complex_number):',abs(my_complex_number))"
   ]
  },
  {
   "cell_type": "markdown",
   "id": "095d6ab2",
   "metadata": {},
   "source": [
    "As with most mathematical operations you've encountered (e.g. matrix operations), it is easier to work with numpy, and indeed, numpy has support for complex numbers. You can make an array like normal, except with complex entries:"
   ]
  },
  {
   "cell_type": "code",
   "execution_count": 10,
   "id": "478297e6",
   "metadata": {},
   "outputs": [
    {
     "name": "stdout",
     "output_type": "stream",
     "text": [
      "my_complex_array: [3.+4.j  5.+6.7j]\n"
     ]
    }
   ],
   "source": [
    "import numpy as np\n",
    "\n",
    "my_complex_array = np.array([3+4*1j,5+6.7*1j])\n",
    "print('my_complex_array:',my_complex_array)"
   ]
  },
  {
   "cell_type": "markdown",
   "id": "67932739",
   "metadata": {},
   "source": [
    "To check that this is a complex array, you can print 'my_complex_array.dtype' (if you instead type 'type(my_complex_array)', you just get np.ndarray back - Python can't tell the type of data inside of a numpy array):"
   ]
  },
  {
   "cell_type": "code",
   "execution_count": 11,
   "id": "35a7cccc",
   "metadata": {},
   "outputs": [
    {
     "name": "stdout",
     "output_type": "stream",
     "text": [
      "my_complex_array.dtype: complex128\n"
     ]
    }
   ],
   "source": [
    "print('my_complex_array.dtype:',my_complex_array.dtype)"
   ]
  },
  {
   "cell_type": "markdown",
   "id": "3028bd7e",
   "metadata": {},
   "source": [
    "Conceptual check number TODO: how would you implement the Pauli matrices in numpy?\n",
    "\n",
    "Numpy also lets you multiply by scalars (real or complex), like you would expect:"
   ]
  },
  {
   "cell_type": "code",
   "execution_count": 14,
   "id": "9dcb5eba",
   "metadata": {},
   "outputs": [
    {
     "name": "stdout",
     "output_type": "stream",
     "text": [
      "2 * my_complex_array: [ 6. +8.j  10.+13.4j]\n",
      "1j * my_complex_array): [-4. +3.j -6.7+5.j]\n",
      "(2+3*1j) * my_complex_array): [ -6. +17.j  -10.1+28.4j]\n"
     ]
    }
   ],
   "source": [
    "print('2 * my_complex_array:',2*my_complex_array)\n",
    "print('1j * my_complex_array):',1j*my_complex_array)\n",
    "print('(2+3*1j) * my_complex_array):',(2+3*1j)*my_complex_array)"
   ]
  },
  {
   "cell_type": "markdown",
   "id": "8e554294",
   "metadata": {},
   "source": [
    "And, you can take the complex conjugate of the array (element-wise):"
   ]
  },
  {
   "cell_type": "code",
   "execution_count": 16,
   "id": "13de7eb9",
   "metadata": {},
   "outputs": [
    {
     "name": "stdout",
     "output_type": "stream",
     "text": [
      "my_complex_array: [3.+4.j  5.+6.7j]\n",
      "np.conjugate(my_complex_array): [3.-4.j  5.-6.7j]\n"
     ]
    }
   ],
   "source": [
    "print('my_complex_array:',my_complex_array)\n",
    "print('np.conjugate(my_complex_array):',np.conjugate(my_complex_array))"
   ]
  },
  {
   "cell_type": "markdown",
   "id": "0d84dac1",
   "metadata": {},
   "source": [
    "As a quick conceptual check: how would you take the *Hermitian conjugate* of 'my_complex_array' (i.e. the conjugate transpose)? TODO clever thing Josh did"
   ]
  },
  {
   "cell_type": "markdown",
   "id": "0e195e34",
   "metadata": {},
   "source": [
    "If you decide that you only care about the real part of an array, numpy lets you access that nicely:"
   ]
  },
  {
   "cell_type": "code",
   "execution_count": 17,
   "id": "aaabfe68",
   "metadata": {},
   "outputs": [
    {
     "name": "stdout",
     "output_type": "stream",
     "text": [
      "np.real(my_complex_array): [3. 5.]\n"
     ]
    }
   ],
   "source": [
    "print('np.real(my_complex_array):',np.real(my_complex_array))"
   ]
  },
  {
   "cell_type": "markdown",
   "id": "3572dc15",
   "metadata": {},
   "source": [
    "Be warned, though: often times, functions in other packages discard the imaginary part of the array, which can lead to unexpected behavior! Typically they will warn you about this, but it can be a problem! TODO: find an example\n",
    "\n",
    "Other things to cover:\n",
    "- Matrix multiplication (assuming they've implemented Pauli matrices)\n",
    "- Eigenvalues/eigenvectors (eig vs eigh?)\n",
    "- Inner products\n",
    "- Hermitian matrices?\n",
    "- Special functions evaluated at complex arguments? (maybe when talking about Riemann sheets?)"
   ]
  },
  {
   "cell_type": "markdown",
   "id": "6547d620",
   "metadata": {},
   "source": [
    "## The Fourier Transform\n",
    "\n",
    "Where to start with this...\n",
    "\n",
    "- Nice example that can be computed by hand (sin function? sum of trig functions? sum of complex exponentials?)\n",
    "- Defined in integral case as blah\n",
    "- Defined in sum case as blah\n",
    "- Naive implementation vs FFT (runtime?)\n",
    "- It's a basis change! and what that tells us for obvious case\n",
    "- More complicated thing - take random noise around the sin function, and take discrete Fourier transform to reveal structure (maybe sin(x) + 0.01 * sin(40x) - looks like noise, but is actually two signals)"
   ]
  },
  {
   "cell_type": "code",
   "execution_count": 43,
   "id": "54b77c64",
   "metadata": {},
   "outputs": [
    {
     "data": {
      "text/plain": [
       "[<matplotlib.lines.Line2D at 0x7f9765ed4190>]"
      ]
     },
     "execution_count": 43,
     "metadata": {},
     "output_type": "execute_result"
    },
    {
     "data": {
      "image/png": "[encoded data removed]",
      "text/plain": [
       "<Figure size 640x480 with 1 Axes>"
      ]
     },
     "metadata": {},
     "output_type": "display_data"
    },
    {
     "data": {
      "image/png": "[encoded data removed]",
      "text/plain": [
       "<Figure size 640x480 with 2 Axes>"
      ]
     },
     "metadata": {},
     "output_type": "display_data"
    }
   ],
   "source": [
    "import matplotlib.pyplot as plt\n",
    "\n",
    "x = np.linspace(0,2*np.pi,256)\n",
    "\n",
    "f = lambda x: np.sin(x) + 0.01 * np.sin(40*x)\n",
    "fEval = f(x)\n",
    "\n",
    "fig, ax =plt.subplots()\n",
    "ax.plot(x,fEval)\n",
    "\n",
    "freq = np.fft.fftfreq(x.shape[-1])\n",
    "fftEval = np.fft.fft(fEval)\n",
    "fig, ax = plt.subplots(ncols=2,sharex=True)\n",
    "ax[0].plot(freq,np.real(fftEval))\n",
    "ax[1].plot(freq,np.imag(fftEval))"
   ]
  },
  {
   "cell_type": "code",
   "execution_count": null,
   "id": "f7903005",
   "metadata": {},
   "outputs": [],
   "source": []
  }
 ],
 "metadata": {
  "kernelspec": {
   "display_name": "Python 3 (ipykernel)",
   "language": "python",
   "name": "python3"
  },
  "language_info": {
   "codemirror_mode": {
    "name": "ipython",
    "version": 3
   },
   "file_extension": ".py",
   "mimetype": "text/x-python",
   "name": "python",
   "nbconvert_exporter": "python",
   "pygments_lexer": "ipython3",
   "version": "3.11.5"
  }
 },
 "nbformat": 4,
 "nbformat_minor": 5
}
