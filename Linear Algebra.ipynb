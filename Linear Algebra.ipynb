{
 "cells": [
  {
   "cell_type": "markdown",
   "id": "203d4fd4",
   "metadata": {},
   "source": [
    "# Important Linear Algebra Skills for Physics Graduate Students:\n",
    "\n",
    "# TODO: ADD functional navigation to document. Ex, skip to cell conatining section 1.5 heading"
   ]
  },
  {
   "cell_type": "markdown",
   "id": "f4737b9e",
   "metadata": {},
   "source": [
    "## 1. Matrix Operations"
   ]
  },
  {
   "cell_type": "markdown",
   "id": "3e02f461",
   "metadata": {},
   "source": [
    "### 1.1 Addition and Subtraction\n",
    "\n",
    "Matrix addition and sibtraction is performed element-wise. Only matrices of the same dimensions can be added or subtraced. \n",
    "\n",
    "$$\n",
    "A = \\begin{bmatrix}\n",
    "a_1 & a_2 \\\\\n",
    "a_3 & a_4\n",
    "\\end{bmatrix},\n",
    "\\quad\n",
    "B = \\begin{bmatrix}\n",
    "b_1 & b_2 \\\\\n",
    "b_3 & b_4\n",
    "\\end{bmatrix},\n",
    "$$\n",
    "\n",
    "The sum \\( A + B \\) is:\n",
    "$$\n",
    "A + B = \\begin{bmatrix}\n",
    "a_1+b_1 & a_2+b_2 \\\\\n",
    "a_3+b_3 & a_4+b_4\n",
    "\\end{bmatrix}\n",
    "$$\n",
    "\n",
    "Given matrices \\( C \\) and \\( D \\):\n",
    "\n",
    "Matrix \\( C \\):\n",
    "$$\n",
    "C = \\begin{bmatrix}\n",
    "1 & 2 & 3 \\\\\n",
    "4 & 5 & 6\n",
    "\\end{bmatrix}\n",
    "$$\n",
    "\n",
    "Matrix \\( D \\):\n",
    "$$\n",
    "D = \\begin{bmatrix}\n",
    "7 & 8 & 9 \\\\\n",
    "10 & 11 & 12\n",
    "\\end{bmatrix}\n",
    "$$\n",
    "\n",
    "Both matrices are \\( 2 x 3 \\).\n",
    "\n",
    "#### Matrix Addition\n",
    "The sum \\( C + D \\) is:\n",
    "$$\n",
    "C + D = \\begin{bmatrix}\n",
    "1+7 & 2+8 & 3+9 \\\\\n",
    "4+10 & 5+11 & 6+12\n",
    "\\end{bmatrix}\n",
    "=\n",
    "\\begin{bmatrix}\n",
    "8 & 10 & 12 \\\\\n",
    "14 & 16 & 18\n",
    "\\end{bmatrix}\n",
    "$$\n",
    "\n",
    "#### Matrix Subtraction\n",
    "The difference \\( C - D \\) is:\n",
    "$$\n",
    "C - D = \\begin{bmatrix}\n",
    "1-7 & 2-8 & 3-9 \\\\\n",
    "4-10 & 5-11 & 6-12\n",
    "\\end{bmatrix}\n",
    "=\n",
    "\\begin{bmatrix}\n",
    "-6 & -6 & -6 \\\\\n",
    "-6 & -6 & -6\n",
    "\\end{bmatrix}\n",
    "$$"
   ]
  },
  {
   "cell_type": "markdown",
   "id": "7ed5bdbc",
   "metadata": {},
   "source": [
    "We can use a code cell to perform matrix addition and subtraction for us if we import the numpy library:"
   ]
  },
  {
   "cell_type": "code",
   "execution_count": 16,
   "id": "794ecff2",
   "metadata": {},
   "outputs": [
    {
     "name": "stdout",
     "output_type": "stream",
     "text": [
      "Matrix C:\n",
      "[[1 2 3]\n",
      " [4 5 6]]\n",
      "\n",
      "Matrix D:\n",
      "[[ 7  8  9]\n",
      " [10 11 12]]\n",
      "\n",
      "Matrix C + D:\n",
      "[[ 8 10 12]\n",
      " [14 16 18]]\n",
      "\n",
      "Matrix C - D:\n",
      "[[-6 -6 -6]\n",
      " [-6 -6 -6]]\n"
     ]
    }
   ],
   "source": [
    "import numpy as np\n",
    "\n",
    "# Define the matrices\n",
    "C = np.array([[1, 2, 3],\n",
    "              [4, 5, 6]])\n",
    "\n",
    "D = np.array([[7, 8, 9],\n",
    "              [10, 11, 12]])\n",
    "\n",
    "# Perform matrix addition\n",
    "E = C + D\n",
    "\n",
    "# Perform matrix subtraction\n",
    "F =  C - D\n",
    "\n",
    "print(\"Matrix C:\")\n",
    "print(C)\n",
    "\n",
    "print(\"\\nMatrix D:\")\n",
    "print(D)\n",
    "\n",
    "print(\"\\nMatrix C + D:\")\n",
    "print(E)\n",
    "\n",
    "print(\"\\nMatrix C - D:\")\n",
    "print(F)"
   ]
  },
  {
   "cell_type": "markdown",
   "id": "0b053c82",
   "metadata": {},
   "source": [
    "### 1.2 Scalar Multiplication\n",
    "\n",
    "Scalar matrix multiplication is performed by multiply every element in a matrix by a constant scalar. Given a matix A, and scalar c: \n",
    "\n",
    "$$\n",
    "cA = c\\begin{bmatrix}\n",
    "a_1 & a_2 \\\\\n",
    "a_3 & a_4\n",
    "\\end{bmatrix}\n",
    "=\n",
    "\\begin{bmatrix}\n",
    "ca_1 & ca_2 \\\\\n",
    "ca_3 & ca_4\n",
    "\\end{bmatrix}\n",
    "$$\n",
    "\n",
    "Matrix \\( A \\):\n",
    "$$\n",
    "A = \\begin{bmatrix}\n",
    "1 & 2 & 3 \\\\\n",
    "4 & 5 & 6\n",
    "\\end{bmatrix},\n",
    "$$\n",
    "Scalar c:\n",
    "$$\n",
    "c = 2 \n",
    "$$\n",
    "Matrix \\( B = cA\\):\n",
    "$$\n",
    "B = cA = 2\\begin{bmatrix}\n",
    "1 & 2 & 3 \\\\\n",
    "4 & 5 & 6\n",
    "\\end{bmatrix}\n",
    "= \\begin{bmatrix}\n",
    "2 & 4 & 6 \\\\\n",
    "8 & 10 & 12\n",
    "\\end{bmatrix}\n",
    "$$"
   ]
  },
  {
   "cell_type": "code",
   "execution_count": 14,
   "id": "be940112",
   "metadata": {},
   "outputs": [
    {
     "name": "stdout",
     "output_type": "stream",
     "text": [
      "Matrix A:\n",
      "[[1 2 3]\n",
      " [4 5 6]]\n",
      "\n",
      "Matrix B = cA:\n",
      "[[ 2  4  6]\n",
      " [ 8 10 12]]\n"
     ]
    }
   ],
   "source": [
    "import numpy \n",
    "\n",
    "A = np.array([[1, 2, 3],\n",
    "              [4, 5, 6]])\n",
    "c = 2\n",
    "B = c * A\n",
    "\n",
    "print(\"Matrix A:\")\n",
    "print(A)\n",
    "\n",
    "print(\"\\nMatrix B = cA:\")\n",
    "print(B)"
   ]
  },
  {
   "cell_type": "markdown",
   "id": "1cb79169",
   "metadata": {},
   "source": [
    "### 1.3 Matrix Multiplication\n",
    "\n"
   ]
  },
  {
   "cell_type": "markdown",
   "id": "6defdd39",
   "metadata": {},
   "source": [
    "### 1.4 Transpose of a Matrix"
   ]
  },
  {
   "cell_type": "markdown",
   "id": "86f92cf4",
   "metadata": {},
   "source": [
    "### 1.5 Inverse of a Matrix"
   ]
  },
  {
   "cell_type": "markdown",
   "id": "f7cb7e0b",
   "metadata": {},
   "source": [
    "## 2. Matrix Properties\n",
    "### 2.1 Unitary Matrices\n",
    "#### 2.1.1 Definition\n",
    "#### 2.1.2 Properties\n",
    "#### 2.1.3 Examples\n",
    "### 2.2 Hermitian Matrices\n",
    "#### 2.2.1 Definition\n",
    "#### 2.2.2 Properties\n",
    "#### 2.2.3 Examples\n",
    "### 2.3 Orthogonal Matrices\n",
    "#### 2.3.1 Definition\n",
    "#### 2.3.2 Properties\n",
    "#### 2.3.3 Examples\n",
    "### 2.4 Positive Definite Matrices\n",
    "#### 2.4.1 Definition\n",
    "#### 2.4.2 Properties\n",
    "#### 2.4.3 Examples\n",
    "\n",
    "## 3. Determinants\n",
    "### 3.1 Definition\n",
    "### 3.2 Properties of Determinants\n",
    "### 3.3 Computation Methods\n",
    "#### 3.3.1 Laplace Expansion\n",
    "#### 3.3.2 Row Reduction\n",
    "### 3.4 Applications of Determinants\n",
    "#### 3.4.1 Solving Linear Systems\n",
    "#### 3.4.2 Cramer's Rule\n",
    "#### 3.4.3 Area and Volume Calculation\n",
    "\n",
    "## 4. Eigenvalues and Eigenvectors\n",
    "### 4.1 Definitions\n",
    "### 4.2 Properties\n",
    "### 4.3 Computation Methods\n",
    "#### 4.3.1 Characteristic Polynomial\n",
    "#### 4.3.2 Diagonalization\n",
    "### 4.4 Applications\n",
    "#### 4.4.1 Stability Analysis\n",
    "#### 4.4.2 Principal Component Analysis (PCA)\n",
    "#### 4.4.3 Quantum Mechanics\n",
    "\n",
    "## 5. Application to a Quantum Mechanics Problem\n",
    "### 5.1 Introduction to Quantum Mechanics\n",
    "### 5.2 The Schrödinger Equation\n",
    "### 5.3 Using Linear Algebra in Quantum Mechanics\n",
    "#### 5.3.1 Hamiltonian Matrix\n",
    "#### 5.3.2 Finding Energy Levels (Eigenvalues)\n",
    "#### 5.3.3 Wavefunctions (Eigenvectors)\n",
    "### 5.4 Example Problem\n",
    "#### 5.4.1 Problem Statement\n",
    "#### 5.4.2 Solution Steps\n",
    "#### 5.4.3 Interpretation of Results"
   ]
  },
  {
   "cell_type": "code",
   "execution_count": null,
   "id": "225e84f9",
   "metadata": {},
   "outputs": [],
   "source": []
  }
 ],
 "metadata": {
  "kernelspec": {
   "display_name": "Python 3 (ipykernel)",
   "language": "python",
   "name": "python3"
  },
  "language_info": {
   "codemirror_mode": {
    "name": "ipython",
    "version": 3
   },
   "file_extension": ".py",
   "mimetype": "text/x-python",
   "name": "python",
   "nbconvert_exporter": "python",
   "pygments_lexer": "ipython3",
   "version": "3.11.5"
  }
 },
 "nbformat": 4,
 "nbformat_minor": 5
}
